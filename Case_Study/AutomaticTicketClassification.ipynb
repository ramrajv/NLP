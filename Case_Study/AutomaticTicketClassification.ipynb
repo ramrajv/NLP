{
  "cells": [
    {
      "cell_type": "markdown",
      "metadata": {
        "id": "view-in-github",
        "colab_type": "text"
      },
      "source": [
        "<a href=\"https://colab.research.google.com/github/ramrajv/NLP/blob/main/Case_Study/AutomaticTicketClassification.ipynb\" target=\"_parent\"><img src=\"https://colab.research.google.com/assets/colab-badge.svg\" alt=\"Open In Colab\"/></a>"
      ]
    },
    {
      "cell_type": "markdown",
      "metadata": {
        "id": "rhR-ZUkwJrFn"
      },
      "source": [
        "# Automatic Ticket Classification Case Study\n",
        "    Ramraj Vasudevan & Prayag Sanjay\n",
        "<hr style=\"border:0.2px solid gray\"> </hr>\n",
        "\n",
        "We need to build a model that is able to classify customer complaints based on the products/services. By doing so, we can segregate these tickets into their relevant categories and, therefore, help in the quick resolution of the issue.\n",
        "\n",
        "We will be doing topic modelling on the <b>.json</b> data provided by the company. Since this data is not labelled, we need to apply NMF to analyse patterns and classify tickets into the following five clusters based on their products/services:\n",
        "\n",
        "* Credit card / Prepaid card\n",
        "\n",
        "* Bank account services\n",
        "\n",
        "* Theft/Dispute reporting\n",
        "\n",
        "* Mortgages/loans\n",
        "\n",
        "* Others \n",
        "\n",
        "\n",
        "With the help of topic modelling, we will be able to map each ticket onto its respective department/category. we can then use this data to train any supervised model such as logistic regression, decision tree or random forest. Using this trained model, we can classify any new customer complaint support ticket into its relevant department."
      ]
    },
    {
      "cell_type": "markdown",
      "metadata": {
        "id": "JuLFIymAL58u"
      },
      "source": [
        "## Importing the necessary libraries"
      ]
    },
    {
      "cell_type": "code",
      "execution_count": 2,
      "metadata": {
        "execution": {
          "iopub.execute_input": "2022-03-23T02:52:51.461586Z",
          "iopub.status.busy": "2022-03-23T02:52:51.461189Z",
          "iopub.status.idle": "2022-03-23T02:53:04.204965Z",
          "shell.execute_reply": "2022-03-23T02:53:04.203767Z",
          "shell.execute_reply.started": "2022-03-23T02:52:51.461475Z"
        },
        "id": "S4bOGDUtyKN8",
        "outputId": "8bdf3072-7eac-4e40-c7c7-9266c599fa0e",
        "colab": {
          "base_uri": "https://localhost:8080/",
          "height": 1000
        }
      },
      "outputs": [
        {
          "output_type": "stream",
          "name": "stdout",
          "text": [
            "Looking in indexes: https://pypi.org/simple, https://us-python.pkg.dev/colab-wheels/public/simple/\n",
            "Collecting swifter\n",
            "  Downloading swifter-1.2.0.tar.gz (658 kB)\n",
            "\u001b[K     |████████████████████████████████| 658 kB 16.0 MB/s \n",
            "\u001b[?25hRequirement already satisfied: pandas>=1.0.0 in /usr/local/lib/python3.7/dist-packages (from swifter) (1.3.5)\n",
            "Collecting psutil>=5.6.6\n",
            "  Downloading psutil-5.9.1-cp37-cp37m-manylinux_2_12_x86_64.manylinux2010_x86_64.manylinux_2_17_x86_64.manylinux2014_x86_64.whl (281 kB)\n",
            "\u001b[K     |████████████████████████████████| 281 kB 24.2 MB/s \n",
            "\u001b[?25hRequirement already satisfied: dask[dataframe]>=2.10.0 in /usr/local/lib/python3.7/dist-packages (from swifter) (2.12.0)\n",
            "Requirement already satisfied: tqdm>=4.33.0 in /usr/local/lib/python3.7/dist-packages (from swifter) (4.64.0)\n",
            "Requirement already satisfied: ipywidgets>=7.0.0 in /usr/local/lib/python3.7/dist-packages (from swifter) (7.7.1)\n",
            "Requirement already satisfied: cloudpickle>=0.2.2 in /usr/local/lib/python3.7/dist-packages (from swifter) (1.3.0)\n",
            "Requirement already satisfied: parso>0.4.0 in /usr/local/lib/python3.7/dist-packages (from swifter) (0.8.3)\n",
            "Requirement already satisfied: bleach>=3.1.1 in /usr/local/lib/python3.7/dist-packages (from swifter) (5.0.1)\n",
            "Requirement already satisfied: webencodings in /usr/local/lib/python3.7/dist-packages (from bleach>=3.1.1->swifter) (0.5.1)\n",
            "Requirement already satisfied: six>=1.9.0 in /usr/local/lib/python3.7/dist-packages (from bleach>=3.1.1->swifter) (1.15.0)\n",
            "Requirement already satisfied: toolz>=0.7.3 in /usr/local/lib/python3.7/dist-packages (from dask[dataframe]>=2.10.0->swifter) (0.12.0)\n",
            "Requirement already satisfied: numpy>=1.13.0 in /usr/local/lib/python3.7/dist-packages (from dask[dataframe]>=2.10.0->swifter) (1.21.6)\n",
            "Collecting fsspec>=0.6.0\n",
            "  Downloading fsspec-2022.5.0-py3-none-any.whl (140 kB)\n",
            "\u001b[K     |████████████████████████████████| 140 kB 53.9 MB/s \n",
            "\u001b[?25hCollecting partd>=0.3.10\n",
            "  Downloading partd-1.2.0-py3-none-any.whl (19 kB)\n",
            "Requirement already satisfied: jupyterlab-widgets>=1.0.0 in /usr/local/lib/python3.7/dist-packages (from ipywidgets>=7.0.0->swifter) (1.1.1)\n",
            "Requirement already satisfied: ipython>=4.0.0 in /usr/local/lib/python3.7/dist-packages (from ipywidgets>=7.0.0->swifter) (5.5.0)\n",
            "Requirement already satisfied: widgetsnbextension~=3.6.0 in /usr/local/lib/python3.7/dist-packages (from ipywidgets>=7.0.0->swifter) (3.6.1)\n",
            "Requirement already satisfied: ipython-genutils~=0.2.0 in /usr/local/lib/python3.7/dist-packages (from ipywidgets>=7.0.0->swifter) (0.2.0)\n",
            "Requirement already satisfied: ipykernel>=4.5.1 in /usr/local/lib/python3.7/dist-packages (from ipywidgets>=7.0.0->swifter) (4.10.1)\n",
            "Requirement already satisfied: traitlets>=4.3.1 in /usr/local/lib/python3.7/dist-packages (from ipywidgets>=7.0.0->swifter) (5.1.1)\n",
            "Requirement already satisfied: tornado>=4.0 in /usr/local/lib/python3.7/dist-packages (from ipykernel>=4.5.1->ipywidgets>=7.0.0->swifter) (5.1.1)\n",
            "Requirement already satisfied: jupyter-client in /usr/local/lib/python3.7/dist-packages (from ipykernel>=4.5.1->ipywidgets>=7.0.0->swifter) (5.3.5)\n",
            "Requirement already satisfied: simplegeneric>0.8 in /usr/local/lib/python3.7/dist-packages (from ipython>=4.0.0->ipywidgets>=7.0.0->swifter) (0.8.1)\n",
            "Requirement already satisfied: setuptools>=18.5 in /usr/local/lib/python3.7/dist-packages (from ipython>=4.0.0->ipywidgets>=7.0.0->swifter) (57.4.0)\n",
            "Requirement already satisfied: pygments in /usr/local/lib/python3.7/dist-packages (from ipython>=4.0.0->ipywidgets>=7.0.0->swifter) (2.6.1)\n",
            "Requirement already satisfied: pexpect in /usr/local/lib/python3.7/dist-packages (from ipython>=4.0.0->ipywidgets>=7.0.0->swifter) (4.8.0)\n",
            "Requirement already satisfied: decorator in /usr/local/lib/python3.7/dist-packages (from ipython>=4.0.0->ipywidgets>=7.0.0->swifter) (4.4.2)\n",
            "Requirement already satisfied: pickleshare in /usr/local/lib/python3.7/dist-packages (from ipython>=4.0.0->ipywidgets>=7.0.0->swifter) (0.7.5)\n",
            "Requirement already satisfied: prompt-toolkit<2.0.0,>=1.0.4 in /usr/local/lib/python3.7/dist-packages (from ipython>=4.0.0->ipywidgets>=7.0.0->swifter) (1.0.18)\n",
            "Requirement already satisfied: python-dateutil>=2.7.3 in /usr/local/lib/python3.7/dist-packages (from pandas>=1.0.0->swifter) (2.8.2)\n",
            "Requirement already satisfied: pytz>=2017.3 in /usr/local/lib/python3.7/dist-packages (from pandas>=1.0.0->swifter) (2022.1)\n",
            "Collecting locket\n",
            "  Downloading locket-1.0.0-py2.py3-none-any.whl (4.4 kB)\n",
            "Requirement already satisfied: wcwidth in /usr/local/lib/python3.7/dist-packages (from prompt-toolkit<2.0.0,>=1.0.4->ipython>=4.0.0->ipywidgets>=7.0.0->swifter) (0.2.5)\n",
            "Requirement already satisfied: notebook>=4.4.1 in /usr/local/lib/python3.7/dist-packages (from widgetsnbextension~=3.6.0->ipywidgets>=7.0.0->swifter) (5.3.1)\n",
            "Requirement already satisfied: Send2Trash in /usr/local/lib/python3.7/dist-packages (from notebook>=4.4.1->widgetsnbextension~=3.6.0->ipywidgets>=7.0.0->swifter) (1.8.0)\n",
            "Requirement already satisfied: nbconvert in /usr/local/lib/python3.7/dist-packages (from notebook>=4.4.1->widgetsnbextension~=3.6.0->ipywidgets>=7.0.0->swifter) (5.6.1)\n",
            "Requirement already satisfied: nbformat in /usr/local/lib/python3.7/dist-packages (from notebook>=4.4.1->widgetsnbextension~=3.6.0->ipywidgets>=7.0.0->swifter) (5.4.0)\n",
            "Requirement already satisfied: jupyter-core>=4.4.0 in /usr/local/lib/python3.7/dist-packages (from notebook>=4.4.1->widgetsnbextension~=3.6.0->ipywidgets>=7.0.0->swifter) (4.11.1)\n",
            "Requirement already satisfied: terminado>=0.8.1 in /usr/local/lib/python3.7/dist-packages (from notebook>=4.4.1->widgetsnbextension~=3.6.0->ipywidgets>=7.0.0->swifter) (0.13.3)\n",
            "Requirement already satisfied: jinja2 in /usr/local/lib/python3.7/dist-packages (from notebook>=4.4.1->widgetsnbextension~=3.6.0->ipywidgets>=7.0.0->swifter) (2.11.3)\n",
            "Requirement already satisfied: pyzmq>=13 in /usr/local/lib/python3.7/dist-packages (from jupyter-client->ipykernel>=4.5.1->ipywidgets>=7.0.0->swifter) (23.2.0)\n",
            "Requirement already satisfied: ptyprocess in /usr/local/lib/python3.7/dist-packages (from terminado>=0.8.1->notebook>=4.4.1->widgetsnbextension~=3.6.0->ipywidgets>=7.0.0->swifter) (0.7.0)\n",
            "Requirement already satisfied: MarkupSafe>=0.23 in /usr/local/lib/python3.7/dist-packages (from jinja2->notebook>=4.4.1->widgetsnbextension~=3.6.0->ipywidgets>=7.0.0->swifter) (2.0.1)\n",
            "Requirement already satisfied: mistune<2,>=0.8.1 in /usr/local/lib/python3.7/dist-packages (from nbconvert->notebook>=4.4.1->widgetsnbextension~=3.6.0->ipywidgets>=7.0.0->swifter) (0.8.4)\n",
            "Requirement already satisfied: defusedxml in /usr/local/lib/python3.7/dist-packages (from nbconvert->notebook>=4.4.1->widgetsnbextension~=3.6.0->ipywidgets>=7.0.0->swifter) (0.7.1)\n",
            "Requirement already satisfied: testpath in /usr/local/lib/python3.7/dist-packages (from nbconvert->notebook>=4.4.1->widgetsnbextension~=3.6.0->ipywidgets>=7.0.0->swifter) (0.6.0)\n",
            "Requirement already satisfied: pandocfilters>=1.4.1 in /usr/local/lib/python3.7/dist-packages (from nbconvert->notebook>=4.4.1->widgetsnbextension~=3.6.0->ipywidgets>=7.0.0->swifter) (1.5.0)\n",
            "Requirement already satisfied: entrypoints>=0.2.2 in /usr/local/lib/python3.7/dist-packages (from nbconvert->notebook>=4.4.1->widgetsnbextension~=3.6.0->ipywidgets>=7.0.0->swifter) (0.4)\n",
            "Requirement already satisfied: fastjsonschema in /usr/local/lib/python3.7/dist-packages (from nbformat->notebook>=4.4.1->widgetsnbextension~=3.6.0->ipywidgets>=7.0.0->swifter) (2.16.1)\n",
            "Requirement already satisfied: jsonschema>=2.6 in /usr/local/lib/python3.7/dist-packages (from nbformat->notebook>=4.4.1->widgetsnbextension~=3.6.0->ipywidgets>=7.0.0->swifter) (4.3.3)\n",
            "Requirement already satisfied: pyrsistent!=0.17.0,!=0.17.1,!=0.17.2,>=0.14.0 in /usr/local/lib/python3.7/dist-packages (from jsonschema>=2.6->nbformat->notebook>=4.4.1->widgetsnbextension~=3.6.0->ipywidgets>=7.0.0->swifter) (0.18.1)\n",
            "Requirement already satisfied: typing-extensions in /usr/local/lib/python3.7/dist-packages (from jsonschema>=2.6->nbformat->notebook>=4.4.1->widgetsnbextension~=3.6.0->ipywidgets>=7.0.0->swifter) (4.1.1)\n",
            "Requirement already satisfied: importlib-metadata in /usr/local/lib/python3.7/dist-packages (from jsonschema>=2.6->nbformat->notebook>=4.4.1->widgetsnbextension~=3.6.0->ipywidgets>=7.0.0->swifter) (4.12.0)\n",
            "Requirement already satisfied: importlib-resources>=1.4.0 in /usr/local/lib/python3.7/dist-packages (from jsonschema>=2.6->nbformat->notebook>=4.4.1->widgetsnbextension~=3.6.0->ipywidgets>=7.0.0->swifter) (5.8.0)\n",
            "Requirement already satisfied: attrs>=17.4.0 in /usr/local/lib/python3.7/dist-packages (from jsonschema>=2.6->nbformat->notebook>=4.4.1->widgetsnbextension~=3.6.0->ipywidgets>=7.0.0->swifter) (21.4.0)\n",
            "Requirement already satisfied: zipp>=3.1.0 in /usr/local/lib/python3.7/dist-packages (from importlib-resources>=1.4.0->jsonschema>=2.6->nbformat->notebook>=4.4.1->widgetsnbextension~=3.6.0->ipywidgets>=7.0.0->swifter) (3.8.1)\n",
            "Building wheels for collected packages: swifter\n",
            "  Building wheel for swifter (setup.py) ... \u001b[?25l\u001b[?25hdone\n",
            "  Created wheel for swifter: filename=swifter-1.2.0-py3-none-any.whl size=14498 sha256=b70d53f4e1a853de71131726068a814d483188708899fc3a6e1436db677137f2\n",
            "  Stored in directory: /root/.cache/pip/wheels/b9/c9/ba/10a8fa98de369cd9ed7ff820e6a174cb63a30056b838a0150e\n",
            "Successfully built swifter\n",
            "Installing collected packages: locket, partd, fsspec, psutil, swifter\n",
            "  Attempting uninstall: psutil\n",
            "    Found existing installation: psutil 5.4.8\n",
            "    Uninstalling psutil-5.4.8:\n",
            "      Successfully uninstalled psutil-5.4.8\n",
            "Successfully installed fsspec-2022.5.0 locket-1.0.0 partd-1.2.0 psutil-5.9.1 swifter-1.2.0\n"
          ]
        },
        {
          "output_type": "display_data",
          "data": {
            "application/vnd.colab-display-data+json": {
              "pip_warning": {
                "packages": [
                  "psutil"
                ]
              }
            }
          },
          "metadata": {}
        }
      ],
      "source": [
        "!pip install swifter"
      ]
    },
    {
      "cell_type": "code",
      "source": [
        "from google.colab import drive\n",
        "drive.mount('/content/drive')"
      ],
      "metadata": {
        "colab": {
          "base_uri": "https://localhost:8080/"
        },
        "id": "ZKr44y3uMWFO",
        "outputId": "172d8508-6289-4369-cdb4-983fb1b71283"
      },
      "execution_count": 1,
      "outputs": [
        {
          "output_type": "stream",
          "name": "stdout",
          "text": [
            "Mounted at /content/drive\n"
          ]
        }
      ]
    },
    {
      "cell_type": "code",
      "source": [
        "path = '/content/drive/MyDrive/AI_MSc_Upgrad/UpgradPt2/1401_NLP/AutomatedTickClassn/complaints.json'"
      ],
      "metadata": {
        "id": "ue7MhgYvMlXd"
      },
      "execution_count": 3,
      "outputs": []
    },
    {
      "cell_type": "code",
      "execution_count": 21,
      "metadata": {
        "execution": {
          "iopub.execute_input": "2022-03-23T02:53:04.207067Z",
          "iopub.status.busy": "2022-03-23T02:53:04.206840Z",
          "iopub.status.idle": "2022-03-23T02:53:18.079157Z",
          "shell.execute_reply": "2022-03-23T02:53:18.078374Z",
          "shell.execute_reply.started": "2022-03-23T02:53:04.207037Z"
        },
        "id": "O-Q9pqrcJrFr",
        "colab": {
          "base_uri": "https://localhost:8080/"
        },
        "outputId": "48ef8ed0-d300-443a-81f2-985bd4ea0187"
      },
      "outputs": [
        {
          "output_type": "stream",
          "name": "stderr",
          "text": [
            "[nltk_data] Downloading package punkt to /root/nltk_data...\n",
            "[nltk_data]   Package punkt is already up-to-date!\n",
            "[nltk_data] Downloading package wordnet to /root/nltk_data...\n",
            "[nltk_data]   Package wordnet is already up-to-date!\n",
            "[nltk_data] Downloading package stopwords to /root/nltk_data...\n",
            "[nltk_data]   Package stopwords is already up-to-date!\n",
            "[nltk_data] Downloading package omw-1.4 to /root/nltk_data...\n"
          ]
        },
        {
          "output_type": "execute_result",
          "data": {
            "text/plain": [
              "True"
            ]
          },
          "metadata": {},
          "execution_count": 21
        }
      ],
      "source": [
        "import json \n",
        "import numpy as np\n",
        "import pandas as pd\n",
        "import re, nltk, spacy, string\n",
        "import en_core_web_sm\n",
        "nlp = en_core_web_sm.load(disable=['parser','ner'])\n",
        "import seaborn as sns\n",
        "import matplotlib.pyplot as plt\n",
        "from wordcloud import WordCloud, STOPWORDS\n",
        "from collections import Counter\n",
        "import swifter\n",
        "from sklearn.feature_extraction.text import TfidfTransformer\n",
        "\n",
        "%matplotlib inline\n",
        "\n",
        "from plotly.offline import plot\n",
        "import plotly.graph_objects as go\n",
        "import plotly.express as px\n",
        "\n",
        "from sklearn.feature_extraction.text import CountVectorizer, TfidfVectorizer\n",
        "from pprint import pprint\n",
        "\n",
        "from nltk.stem import WordNetLemmatizer\n",
        "from nltk.tokenize import word_tokenize\n",
        "from nltk.corpus import stopwords\n",
        "\n",
        "import warnings\n",
        "warnings.filterwarnings('ignore')\n",
        "\n",
        "import nltk\n",
        "nltk.download('punkt')\n",
        "nltk.download('wordnet')\n",
        "nltk.download('stopwords')\n",
        "nltk.download('omw-1.4')"
      ]
    },
    {
      "cell_type": "markdown",
      "metadata": {
        "id": "KtRLCsNVJrFt"
      },
      "source": [
        "## Loading the data\n",
        "\n",
        "The data is in JSON format and we need to convert it to a dataframe."
      ]
    },
    {
      "cell_type": "code",
      "execution_count": 6,
      "metadata": {
        "execution": {
          "iopub.execute_input": "2022-03-23T02:54:07.748433Z",
          "iopub.status.busy": "2022-03-23T02:54:07.748080Z",
          "iopub.status.idle": "2022-03-23T02:54:12.805145Z",
          "shell.execute_reply": "2022-03-23T02:54:12.804453Z",
          "shell.execute_reply.started": "2022-03-23T02:54:07.748398Z"
        },
        "id": "puVzIf_iJrFt"
      },
      "outputs": [],
      "source": [
        "# Opening JSON file \n",
        "f = open(path)\n",
        " \n",
        "data = json.load(f)\n",
        "df=pd.json_normalize(data)"
      ]
    },
    {
      "cell_type": "markdown",
      "metadata": {
        "id": "_xYpH-sAJrFu"
      },
      "source": [
        "## Data preparation"
      ]
    },
    {
      "cell_type": "code",
      "execution_count": 7,
      "metadata": {
        "execution": {
          "iopub.execute_input": "2022-03-23T02:54:19.045862Z",
          "iopub.status.busy": "2022-03-23T02:54:19.045556Z",
          "iopub.status.idle": "2022-03-23T02:54:19.083151Z",
          "shell.execute_reply": "2022-03-23T02:54:19.082299Z",
          "shell.execute_reply.started": "2022-03-23T02:54:19.045829Z"
        },
        "id": "Lf8ufHH5JrFu",
        "outputId": "40ab6b83-21c4-44af-9299-95ebb89a0df4",
        "colab": {
          "base_uri": "https://localhost:8080/",
          "height": 438
        }
      },
      "outputs": [
        {
          "output_type": "execute_result",
          "data": {
            "text/plain": [
              "                _index      _type      _id  _score   _source.tags  \\\n",
              "0  complaint-public-v2  complaint  3211475     0.0           None   \n",
              "1  complaint-public-v2  complaint  3229299     0.0  Servicemember   \n",
              "2  complaint-public-v2  complaint  3199379     0.0           None   \n",
              "3  complaint-public-v2  complaint  2673060     0.0           None   \n",
              "4  complaint-public-v2  complaint  3203545     0.0           None   \n",
              "\n",
              "  _source.zip_code _source.complaint_id                       _source.issue  \\\n",
              "0            90301              3211475   Attempts to collect debt not owed   \n",
              "1            319XX              3229299     Written notification about debt   \n",
              "2            77069              3199379  Other features, terms, or problems   \n",
              "3            48066              2673060      Trouble during payment process   \n",
              "4            10473              3203545                    Fees or interest   \n",
              "\n",
              "       _source.date_received _source.state  ... _source.company_response  \\\n",
              "0  2019-04-13T12:00:00-05:00            CA  ...  Closed with explanation   \n",
              "1  2019-05-01T12:00:00-05:00            GA  ...  Closed with explanation   \n",
              "2  2019-04-02T12:00:00-05:00            TX  ...  Closed with explanation   \n",
              "3  2017-09-13T12:00:00-05:00            MI  ...  Closed with explanation   \n",
              "4  2019-04-05T12:00:00-05:00            NY  ...  Closed with explanation   \n",
              "\n",
              "        _source.company _source.submitted_via _source.date_sent_to_company  \\\n",
              "0  JPMORGAN CHASE & CO.                   Web    2019-04-13T12:00:00-05:00   \n",
              "1  JPMORGAN CHASE & CO.                   Web    2019-05-01T12:00:00-05:00   \n",
              "2  JPMORGAN CHASE & CO.                   Web    2019-04-02T12:00:00-05:00   \n",
              "3  JPMORGAN CHASE & CO.                   Web    2017-09-14T12:00:00-05:00   \n",
              "4  JPMORGAN CHASE & CO.              Referral    2019-04-05T12:00:00-05:00   \n",
              "\n",
              "  _source.company_public_response                         _source.sub_product  \\\n",
              "0                            None                            Credit card debt   \n",
              "1                            None                            Credit card debt   \n",
              "2                            None  General-purpose credit card or charge card   \n",
              "3                            None                  Conventional home mortgage   \n",
              "4                            None  General-purpose credit card or charge card   \n",
              "\n",
              "  _source.timely                    _source.complaint_what_happened  \\\n",
              "0            Yes                                                      \n",
              "1            Yes  Good morning my name is XXXX XXXX and I apprec...   \n",
              "2            Yes  I upgraded my XXXX XXXX card in XX/XX/2018 and...   \n",
              "3            Yes                                                      \n",
              "4            Yes                                                      \n",
              "\n",
              "                                  _source.sub_issue  \\\n",
              "0                                 Debt is not yours   \n",
              "1  Didn't receive enough information to verify debt   \n",
              "2             Problem with rewards from credit card   \n",
              "3                                              None   \n",
              "4                         Charged too much interest   \n",
              "\n",
              "  _source.consumer_consent_provided  \n",
              "0              Consent not provided  \n",
              "1                  Consent provided  \n",
              "2                  Consent provided  \n",
              "3              Consent not provided  \n",
              "4                               N/A  \n",
              "\n",
              "[5 rows x 22 columns]"
            ],
            "text/html": [
              "\n",
              "  <div id=\"df-dd009b09-d96a-4c29-90ca-1cb916005645\">\n",
              "    <div class=\"colab-df-container\">\n",
              "      <div>\n",
              "<style scoped>\n",
              "    .dataframe tbody tr th:only-of-type {\n",
              "        vertical-align: middle;\n",
              "    }\n",
              "\n",
              "    .dataframe tbody tr th {\n",
              "        vertical-align: top;\n",
              "    }\n",
              "\n",
              "    .dataframe thead th {\n",
              "        text-align: right;\n",
              "    }\n",
              "</style>\n",
              "<table border=\"1\" class=\"dataframe\">\n",
              "  <thead>\n",
              "    <tr style=\"text-align: right;\">\n",
              "      <th></th>\n",
              "      <th>_index</th>\n",
              "      <th>_type</th>\n",
              "      <th>_id</th>\n",
              "      <th>_score</th>\n",
              "      <th>_source.tags</th>\n",
              "      <th>_source.zip_code</th>\n",
              "      <th>_source.complaint_id</th>\n",
              "      <th>_source.issue</th>\n",
              "      <th>_source.date_received</th>\n",
              "      <th>_source.state</th>\n",
              "      <th>...</th>\n",
              "      <th>_source.company_response</th>\n",
              "      <th>_source.company</th>\n",
              "      <th>_source.submitted_via</th>\n",
              "      <th>_source.date_sent_to_company</th>\n",
              "      <th>_source.company_public_response</th>\n",
              "      <th>_source.sub_product</th>\n",
              "      <th>_source.timely</th>\n",
              "      <th>_source.complaint_what_happened</th>\n",
              "      <th>_source.sub_issue</th>\n",
              "      <th>_source.consumer_consent_provided</th>\n",
              "    </tr>\n",
              "  </thead>\n",
              "  <tbody>\n",
              "    <tr>\n",
              "      <th>0</th>\n",
              "      <td>complaint-public-v2</td>\n",
              "      <td>complaint</td>\n",
              "      <td>3211475</td>\n",
              "      <td>0.0</td>\n",
              "      <td>None</td>\n",
              "      <td>90301</td>\n",
              "      <td>3211475</td>\n",
              "      <td>Attempts to collect debt not owed</td>\n",
              "      <td>2019-04-13T12:00:00-05:00</td>\n",
              "      <td>CA</td>\n",
              "      <td>...</td>\n",
              "      <td>Closed with explanation</td>\n",
              "      <td>JPMORGAN CHASE &amp; CO.</td>\n",
              "      <td>Web</td>\n",
              "      <td>2019-04-13T12:00:00-05:00</td>\n",
              "      <td>None</td>\n",
              "      <td>Credit card debt</td>\n",
              "      <td>Yes</td>\n",
              "      <td></td>\n",
              "      <td>Debt is not yours</td>\n",
              "      <td>Consent not provided</td>\n",
              "    </tr>\n",
              "    <tr>\n",
              "      <th>1</th>\n",
              "      <td>complaint-public-v2</td>\n",
              "      <td>complaint</td>\n",
              "      <td>3229299</td>\n",
              "      <td>0.0</td>\n",
              "      <td>Servicemember</td>\n",
              "      <td>319XX</td>\n",
              "      <td>3229299</td>\n",
              "      <td>Written notification about debt</td>\n",
              "      <td>2019-05-01T12:00:00-05:00</td>\n",
              "      <td>GA</td>\n",
              "      <td>...</td>\n",
              "      <td>Closed with explanation</td>\n",
              "      <td>JPMORGAN CHASE &amp; CO.</td>\n",
              "      <td>Web</td>\n",
              "      <td>2019-05-01T12:00:00-05:00</td>\n",
              "      <td>None</td>\n",
              "      <td>Credit card debt</td>\n",
              "      <td>Yes</td>\n",
              "      <td>Good morning my name is XXXX XXXX and I apprec...</td>\n",
              "      <td>Didn't receive enough information to verify debt</td>\n",
              "      <td>Consent provided</td>\n",
              "    </tr>\n",
              "    <tr>\n",
              "      <th>2</th>\n",
              "      <td>complaint-public-v2</td>\n",
              "      <td>complaint</td>\n",
              "      <td>3199379</td>\n",
              "      <td>0.0</td>\n",
              "      <td>None</td>\n",
              "      <td>77069</td>\n",
              "      <td>3199379</td>\n",
              "      <td>Other features, terms, or problems</td>\n",
              "      <td>2019-04-02T12:00:00-05:00</td>\n",
              "      <td>TX</td>\n",
              "      <td>...</td>\n",
              "      <td>Closed with explanation</td>\n",
              "      <td>JPMORGAN CHASE &amp; CO.</td>\n",
              "      <td>Web</td>\n",
              "      <td>2019-04-02T12:00:00-05:00</td>\n",
              "      <td>None</td>\n",
              "      <td>General-purpose credit card or charge card</td>\n",
              "      <td>Yes</td>\n",
              "      <td>I upgraded my XXXX XXXX card in XX/XX/2018 and...</td>\n",
              "      <td>Problem with rewards from credit card</td>\n",
              "      <td>Consent provided</td>\n",
              "    </tr>\n",
              "    <tr>\n",
              "      <th>3</th>\n",
              "      <td>complaint-public-v2</td>\n",
              "      <td>complaint</td>\n",
              "      <td>2673060</td>\n",
              "      <td>0.0</td>\n",
              "      <td>None</td>\n",
              "      <td>48066</td>\n",
              "      <td>2673060</td>\n",
              "      <td>Trouble during payment process</td>\n",
              "      <td>2017-09-13T12:00:00-05:00</td>\n",
              "      <td>MI</td>\n",
              "      <td>...</td>\n",
              "      <td>Closed with explanation</td>\n",
              "      <td>JPMORGAN CHASE &amp; CO.</td>\n",
              "      <td>Web</td>\n",
              "      <td>2017-09-14T12:00:00-05:00</td>\n",
              "      <td>None</td>\n",
              "      <td>Conventional home mortgage</td>\n",
              "      <td>Yes</td>\n",
              "      <td></td>\n",
              "      <td>None</td>\n",
              "      <td>Consent not provided</td>\n",
              "    </tr>\n",
              "    <tr>\n",
              "      <th>4</th>\n",
              "      <td>complaint-public-v2</td>\n",
              "      <td>complaint</td>\n",
              "      <td>3203545</td>\n",
              "      <td>0.0</td>\n",
              "      <td>None</td>\n",
              "      <td>10473</td>\n",
              "      <td>3203545</td>\n",
              "      <td>Fees or interest</td>\n",
              "      <td>2019-04-05T12:00:00-05:00</td>\n",
              "      <td>NY</td>\n",
              "      <td>...</td>\n",
              "      <td>Closed with explanation</td>\n",
              "      <td>JPMORGAN CHASE &amp; CO.</td>\n",
              "      <td>Referral</td>\n",
              "      <td>2019-04-05T12:00:00-05:00</td>\n",
              "      <td>None</td>\n",
              "      <td>General-purpose credit card or charge card</td>\n",
              "      <td>Yes</td>\n",
              "      <td></td>\n",
              "      <td>Charged too much interest</td>\n",
              "      <td>N/A</td>\n",
              "    </tr>\n",
              "  </tbody>\n",
              "</table>\n",
              "<p>5 rows × 22 columns</p>\n",
              "</div>\n",
              "      <button class=\"colab-df-convert\" onclick=\"convertToInteractive('df-dd009b09-d96a-4c29-90ca-1cb916005645')\"\n",
              "              title=\"Convert this dataframe to an interactive table.\"\n",
              "              style=\"display:none;\">\n",
              "        \n",
              "  <svg xmlns=\"http://www.w3.org/2000/svg\" height=\"24px\"viewBox=\"0 0 24 24\"\n",
              "       width=\"24px\">\n",
              "    <path d=\"M0 0h24v24H0V0z\" fill=\"none\"/>\n",
              "    <path d=\"M18.56 5.44l.94 2.06.94-2.06 2.06-.94-2.06-.94-.94-2.06-.94 2.06-2.06.94zm-11 1L8.5 8.5l.94-2.06 2.06-.94-2.06-.94L8.5 2.5l-.94 2.06-2.06.94zm10 10l.94 2.06.94-2.06 2.06-.94-2.06-.94-.94-2.06-.94 2.06-2.06.94z\"/><path d=\"M17.41 7.96l-1.37-1.37c-.4-.4-.92-.59-1.43-.59-.52 0-1.04.2-1.43.59L10.3 9.45l-7.72 7.72c-.78.78-.78 2.05 0 2.83L4 21.41c.39.39.9.59 1.41.59.51 0 1.02-.2 1.41-.59l7.78-7.78 2.81-2.81c.8-.78.8-2.07 0-2.86zM5.41 20L4 18.59l7.72-7.72 1.47 1.35L5.41 20z\"/>\n",
              "  </svg>\n",
              "      </button>\n",
              "      \n",
              "  <style>\n",
              "    .colab-df-container {\n",
              "      display:flex;\n",
              "      flex-wrap:wrap;\n",
              "      gap: 12px;\n",
              "    }\n",
              "\n",
              "    .colab-df-convert {\n",
              "      background-color: #E8F0FE;\n",
              "      border: none;\n",
              "      border-radius: 50%;\n",
              "      cursor: pointer;\n",
              "      display: none;\n",
              "      fill: #1967D2;\n",
              "      height: 32px;\n",
              "      padding: 0 0 0 0;\n",
              "      width: 32px;\n",
              "    }\n",
              "\n",
              "    .colab-df-convert:hover {\n",
              "      background-color: #E2EBFA;\n",
              "      box-shadow: 0px 1px 2px rgba(60, 64, 67, 0.3), 0px 1px 3px 1px rgba(60, 64, 67, 0.15);\n",
              "      fill: #174EA6;\n",
              "    }\n",
              "\n",
              "    [theme=dark] .colab-df-convert {\n",
              "      background-color: #3B4455;\n",
              "      fill: #D2E3FC;\n",
              "    }\n",
              "\n",
              "    [theme=dark] .colab-df-convert:hover {\n",
              "      background-color: #434B5C;\n",
              "      box-shadow: 0px 1px 3px 1px rgba(0, 0, 0, 0.15);\n",
              "      filter: drop-shadow(0px 1px 2px rgba(0, 0, 0, 0.3));\n",
              "      fill: #FFFFFF;\n",
              "    }\n",
              "  </style>\n",
              "\n",
              "      <script>\n",
              "        const buttonEl =\n",
              "          document.querySelector('#df-dd009b09-d96a-4c29-90ca-1cb916005645 button.colab-df-convert');\n",
              "        buttonEl.style.display =\n",
              "          google.colab.kernel.accessAllowed ? 'block' : 'none';\n",
              "\n",
              "        async function convertToInteractive(key) {\n",
              "          const element = document.querySelector('#df-dd009b09-d96a-4c29-90ca-1cb916005645');\n",
              "          const dataTable =\n",
              "            await google.colab.kernel.invokeFunction('convertToInteractive',\n",
              "                                                     [key], {});\n",
              "          if (!dataTable) return;\n",
              "\n",
              "          const docLinkHtml = 'Like what you see? Visit the ' +\n",
              "            '<a target=\"_blank\" href=https://colab.research.google.com/notebooks/data_table.ipynb>data table notebook</a>'\n",
              "            + ' to learn more about interactive tables.';\n",
              "          element.innerHTML = '';\n",
              "          dataTable['output_type'] = 'display_data';\n",
              "          await google.colab.output.renderOutput(dataTable, element);\n",
              "          const docLink = document.createElement('div');\n",
              "          docLink.innerHTML = docLinkHtml;\n",
              "          element.appendChild(docLink);\n",
              "        }\n",
              "      </script>\n",
              "    </div>\n",
              "  </div>\n",
              "  "
            ]
          },
          "metadata": {},
          "execution_count": 7
        }
      ],
      "source": [
        "# Inspect the dataframe to understand the given data.\n",
        "df.head()"
      ]
    },
    {
      "cell_type": "code",
      "execution_count": 8,
      "metadata": {
        "execution": {
          "iopub.execute_input": "2022-03-23T02:54:20.179938Z",
          "iopub.status.busy": "2022-03-23T02:54:20.179600Z",
          "iopub.status.idle": "2022-03-23T02:54:20.186043Z",
          "shell.execute_reply": "2022-03-23T02:54:20.185403Z",
          "shell.execute_reply.started": "2022-03-23T02:54:20.179903Z"
        },
        "id": "Dwcty-wmJrFw",
        "outputId": "2b5a4c52-f70f-46f0-c8c0-83984090bcfe",
        "colab": {
          "base_uri": "https://localhost:8080/"
        }
      },
      "outputs": [
        {
          "output_type": "execute_result",
          "data": {
            "text/plain": [
              "Index(['_index', '_type', '_id', '_score', '_source.tags', '_source.zip_code',\n",
              "       '_source.complaint_id', '_source.issue', '_source.date_received',\n",
              "       '_source.state', '_source.consumer_disputed', '_source.product',\n",
              "       '_source.company_response', '_source.company', '_source.submitted_via',\n",
              "       '_source.date_sent_to_company', '_source.company_public_response',\n",
              "       '_source.sub_product', '_source.timely',\n",
              "       '_source.complaint_what_happened', '_source.sub_issue',\n",
              "       '_source.consumer_consent_provided'],\n",
              "      dtype='object')"
            ]
          },
          "metadata": {},
          "execution_count": 8
        }
      ],
      "source": [
        "#print the column names\n",
        "df.columns"
      ]
    },
    {
      "cell_type": "code",
      "execution_count": 9,
      "metadata": {
        "execution": {
          "iopub.execute_input": "2022-03-23T02:54:21.028200Z",
          "iopub.status.busy": "2022-03-23T02:54:21.027727Z",
          "iopub.status.idle": "2022-03-23T02:54:21.036767Z",
          "shell.execute_reply": "2022-03-23T02:54:21.035796Z",
          "shell.execute_reply.started": "2022-03-23T02:54:21.028148Z"
        },
        "id": "FYCtKXD1JrFw"
      },
      "outputs": [],
      "source": [
        "#Assign new column names\n",
        "df.rename(columns={'_source.complaint_what_happened':'complaints_what_happened', '_source.product':'tag'}, inplace=True)"
      ]
    },
    {
      "cell_type": "code",
      "execution_count": 10,
      "metadata": {
        "execution": {
          "iopub.execute_input": "2022-03-23T02:54:22.042460Z",
          "iopub.status.busy": "2022-03-23T02:54:22.042099Z",
          "iopub.status.idle": "2022-03-23T02:54:22.048532Z",
          "shell.execute_reply": "2022-03-23T02:54:22.047924Z",
          "shell.execute_reply.started": "2022-03-23T02:54:22.042416Z"
        },
        "id": "B5CDC0rNyKOB",
        "outputId": "ece72939-4d4b-4fa5-af38-26508b472a9d",
        "colab": {
          "base_uri": "https://localhost:8080/"
        }
      },
      "outputs": [
        {
          "output_type": "execute_result",
          "data": {
            "text/plain": [
              "Index(['_index', '_type', '_id', '_score', '_source.tags', '_source.zip_code',\n",
              "       '_source.complaint_id', '_source.issue', '_source.date_received',\n",
              "       '_source.state', '_source.consumer_disputed', 'tag',\n",
              "       '_source.company_response', '_source.company', '_source.submitted_via',\n",
              "       '_source.date_sent_to_company', '_source.company_public_response',\n",
              "       '_source.sub_product', '_source.timely', 'complaints_what_happened',\n",
              "       '_source.sub_issue', '_source.consumer_consent_provided'],\n",
              "      dtype='object')"
            ]
          },
          "metadata": {},
          "execution_count": 10
        }
      ],
      "source": [
        "df.columns"
      ]
    },
    {
      "cell_type": "code",
      "execution_count": 11,
      "metadata": {
        "execution": {
          "iopub.execute_input": "2022-03-23T02:54:22.665111Z",
          "iopub.status.busy": "2022-03-23T02:54:22.664330Z",
          "iopub.status.idle": "2022-03-23T02:54:22.675086Z",
          "shell.execute_reply": "2022-03-23T02:54:22.674439Z",
          "shell.execute_reply.started": "2022-03-23T02:54:22.665066Z"
        },
        "id": "SH0io5lfyKOC"
      },
      "outputs": [],
      "source": [
        "df = df[['complaints_what_happened', 'tag']]"
      ]
    },
    {
      "cell_type": "code",
      "execution_count": 12,
      "metadata": {
        "execution": {
          "iopub.execute_input": "2022-03-23T02:54:25.206560Z",
          "iopub.status.busy": "2022-03-23T02:54:25.206208Z",
          "iopub.status.idle": "2022-03-23T02:54:25.232474Z",
          "shell.execute_reply": "2022-03-23T02:54:25.231632Z",
          "shell.execute_reply.started": "2022-03-23T02:54:25.206525Z"
        },
        "id": "pWOMmADq_Jbe",
        "outputId": "bb8f61bb-3cc1-4b1e-c8fd-9fc8fe6c7268",
        "colab": {
          "base_uri": "https://localhost:8080/",
          "height": 424
        }
      },
      "outputs": [
        {
          "output_type": "execute_result",
          "data": {
            "text/plain": [
              "                                complaints_what_happened  \\\n",
              "1      Good morning my name is XXXX XXXX and I apprec...   \n",
              "2      I upgraded my XXXX XXXX card in XX/XX/2018 and...   \n",
              "10     Chase Card was reported on XX/XX/2019. However...   \n",
              "11     On XX/XX/2018, while trying to book a XXXX  XX...   \n",
              "14     my grand son give me check for {$1600.00} i de...   \n",
              "...                                                  ...   \n",
              "78303  After being a Chase Card customer for well ove...   \n",
              "78309  On Wednesday, XX/XX/XXXX I called Chas, my XXX...   \n",
              "78310  I am not familiar with XXXX pay and did not un...   \n",
              "78311  I have had flawless credit for 30 yrs. I've ha...   \n",
              "78312  Roughly 10+ years ago I closed out my accounts...   \n",
              "\n",
              "                                                     tag  \n",
              "1                                        Debt collection  \n",
              "2                            Credit card or prepaid card  \n",
              "10     Credit reporting, credit repair services, or o...  \n",
              "11     Credit reporting, credit repair services, or o...  \n",
              "14                           Checking or savings account  \n",
              "...                                                  ...  \n",
              "78303                        Credit card or prepaid card  \n",
              "78309                        Credit card or prepaid card  \n",
              "78310                        Checking or savings account  \n",
              "78311                        Credit card or prepaid card  \n",
              "78312                                        Payday loan  \n",
              "\n",
              "[21072 rows x 2 columns]"
            ],
            "text/html": [
              "\n",
              "  <div id=\"df-567cd818-bd27-42be-b0ec-ff3d86804200\">\n",
              "    <div class=\"colab-df-container\">\n",
              "      <div>\n",
              "<style scoped>\n",
              "    .dataframe tbody tr th:only-of-type {\n",
              "        vertical-align: middle;\n",
              "    }\n",
              "\n",
              "    .dataframe tbody tr th {\n",
              "        vertical-align: top;\n",
              "    }\n",
              "\n",
              "    .dataframe thead th {\n",
              "        text-align: right;\n",
              "    }\n",
              "</style>\n",
              "<table border=\"1\" class=\"dataframe\">\n",
              "  <thead>\n",
              "    <tr style=\"text-align: right;\">\n",
              "      <th></th>\n",
              "      <th>complaints_what_happened</th>\n",
              "      <th>tag</th>\n",
              "    </tr>\n",
              "  </thead>\n",
              "  <tbody>\n",
              "    <tr>\n",
              "      <th>1</th>\n",
              "      <td>Good morning my name is XXXX XXXX and I apprec...</td>\n",
              "      <td>Debt collection</td>\n",
              "    </tr>\n",
              "    <tr>\n",
              "      <th>2</th>\n",
              "      <td>I upgraded my XXXX XXXX card in XX/XX/2018 and...</td>\n",
              "      <td>Credit card or prepaid card</td>\n",
              "    </tr>\n",
              "    <tr>\n",
              "      <th>10</th>\n",
              "      <td>Chase Card was reported on XX/XX/2019. However...</td>\n",
              "      <td>Credit reporting, credit repair services, or o...</td>\n",
              "    </tr>\n",
              "    <tr>\n",
              "      <th>11</th>\n",
              "      <td>On XX/XX/2018, while trying to book a XXXX  XX...</td>\n",
              "      <td>Credit reporting, credit repair services, or o...</td>\n",
              "    </tr>\n",
              "    <tr>\n",
              "      <th>14</th>\n",
              "      <td>my grand son give me check for {$1600.00} i de...</td>\n",
              "      <td>Checking or savings account</td>\n",
              "    </tr>\n",
              "    <tr>\n",
              "      <th>...</th>\n",
              "      <td>...</td>\n",
              "      <td>...</td>\n",
              "    </tr>\n",
              "    <tr>\n",
              "      <th>78303</th>\n",
              "      <td>After being a Chase Card customer for well ove...</td>\n",
              "      <td>Credit card or prepaid card</td>\n",
              "    </tr>\n",
              "    <tr>\n",
              "      <th>78309</th>\n",
              "      <td>On Wednesday, XX/XX/XXXX I called Chas, my XXX...</td>\n",
              "      <td>Credit card or prepaid card</td>\n",
              "    </tr>\n",
              "    <tr>\n",
              "      <th>78310</th>\n",
              "      <td>I am not familiar with XXXX pay and did not un...</td>\n",
              "      <td>Checking or savings account</td>\n",
              "    </tr>\n",
              "    <tr>\n",
              "      <th>78311</th>\n",
              "      <td>I have had flawless credit for 30 yrs. I've ha...</td>\n",
              "      <td>Credit card or prepaid card</td>\n",
              "    </tr>\n",
              "    <tr>\n",
              "      <th>78312</th>\n",
              "      <td>Roughly 10+ years ago I closed out my accounts...</td>\n",
              "      <td>Payday loan</td>\n",
              "    </tr>\n",
              "  </tbody>\n",
              "</table>\n",
              "<p>21072 rows × 2 columns</p>\n",
              "</div>\n",
              "      <button class=\"colab-df-convert\" onclick=\"convertToInteractive('df-567cd818-bd27-42be-b0ec-ff3d86804200')\"\n",
              "              title=\"Convert this dataframe to an interactive table.\"\n",
              "              style=\"display:none;\">\n",
              "        \n",
              "  <svg xmlns=\"http://www.w3.org/2000/svg\" height=\"24px\"viewBox=\"0 0 24 24\"\n",
              "       width=\"24px\">\n",
              "    <path d=\"M0 0h24v24H0V0z\" fill=\"none\"/>\n",
              "    <path d=\"M18.56 5.44l.94 2.06.94-2.06 2.06-.94-2.06-.94-.94-2.06-.94 2.06-2.06.94zm-11 1L8.5 8.5l.94-2.06 2.06-.94-2.06-.94L8.5 2.5l-.94 2.06-2.06.94zm10 10l.94 2.06.94-2.06 2.06-.94-2.06-.94-.94-2.06-.94 2.06-2.06.94z\"/><path d=\"M17.41 7.96l-1.37-1.37c-.4-.4-.92-.59-1.43-.59-.52 0-1.04.2-1.43.59L10.3 9.45l-7.72 7.72c-.78.78-.78 2.05 0 2.83L4 21.41c.39.39.9.59 1.41.59.51 0 1.02-.2 1.41-.59l7.78-7.78 2.81-2.81c.8-.78.8-2.07 0-2.86zM5.41 20L4 18.59l7.72-7.72 1.47 1.35L5.41 20z\"/>\n",
              "  </svg>\n",
              "      </button>\n",
              "      \n",
              "  <style>\n",
              "    .colab-df-container {\n",
              "      display:flex;\n",
              "      flex-wrap:wrap;\n",
              "      gap: 12px;\n",
              "    }\n",
              "\n",
              "    .colab-df-convert {\n",
              "      background-color: #E8F0FE;\n",
              "      border: none;\n",
              "      border-radius: 50%;\n",
              "      cursor: pointer;\n",
              "      display: none;\n",
              "      fill: #1967D2;\n",
              "      height: 32px;\n",
              "      padding: 0 0 0 0;\n",
              "      width: 32px;\n",
              "    }\n",
              "\n",
              "    .colab-df-convert:hover {\n",
              "      background-color: #E2EBFA;\n",
              "      box-shadow: 0px 1px 2px rgba(60, 64, 67, 0.3), 0px 1px 3px 1px rgba(60, 64, 67, 0.15);\n",
              "      fill: #174EA6;\n",
              "    }\n",
              "\n",
              "    [theme=dark] .colab-df-convert {\n",
              "      background-color: #3B4455;\n",
              "      fill: #D2E3FC;\n",
              "    }\n",
              "\n",
              "    [theme=dark] .colab-df-convert:hover {\n",
              "      background-color: #434B5C;\n",
              "      box-shadow: 0px 1px 3px 1px rgba(0, 0, 0, 0.15);\n",
              "      filter: drop-shadow(0px 1px 2px rgba(0, 0, 0, 0.3));\n",
              "      fill: #FFFFFF;\n",
              "    }\n",
              "  </style>\n",
              "\n",
              "      <script>\n",
              "        const buttonEl =\n",
              "          document.querySelector('#df-567cd818-bd27-42be-b0ec-ff3d86804200 button.colab-df-convert');\n",
              "        buttonEl.style.display =\n",
              "          google.colab.kernel.accessAllowed ? 'block' : 'none';\n",
              "\n",
              "        async function convertToInteractive(key) {\n",
              "          const element = document.querySelector('#df-567cd818-bd27-42be-b0ec-ff3d86804200');\n",
              "          const dataTable =\n",
              "            await google.colab.kernel.invokeFunction('convertToInteractive',\n",
              "                                                     [key], {});\n",
              "          if (!dataTable) return;\n",
              "\n",
              "          const docLinkHtml = 'Like what you see? Visit the ' +\n",
              "            '<a target=\"_blank\" href=https://colab.research.google.com/notebooks/data_table.ipynb>data table notebook</a>'\n",
              "            + ' to learn more about interactive tables.';\n",
              "          element.innerHTML = '';\n",
              "          dataTable['output_type'] = 'display_data';\n",
              "          await google.colab.output.renderOutput(dataTable, element);\n",
              "          const docLink = document.createElement('div');\n",
              "          docLink.innerHTML = docLinkHtml;\n",
              "          element.appendChild(docLink);\n",
              "        }\n",
              "      </script>\n",
              "    </div>\n",
              "  </div>\n",
              "  "
            ]
          },
          "metadata": {},
          "execution_count": 12
        }
      ],
      "source": [
        "df = df[df['complaints_what_happened'].astype(bool)]\n",
        "df"
      ]
    },
    {
      "cell_type": "markdown",
      "metadata": {
        "id": "L944HZpsJrFy"
      },
      "source": [
        "## Prepare the text for topic modeling\n",
        "\n",
        "After removing blank complaints:\n",
        "\n",
        "* Make the text lowercase\n",
        "* Remove text in square brackets\n",
        "* Remove punctuation\n",
        "* Remove words containing numbers\n",
        "\n",
        "\n",
        "After all the cleaning operations, performed the following:\n",
        "* Lemmatize the texts\n",
        "* Extract the POS tags of the lemmatized text and remove all the words which have tags other than NN[tag == \"NN\"].\n"
      ]
    },
    {
      "cell_type": "code",
      "execution_count": 13,
      "metadata": {
        "execution": {
          "iopub.execute_input": "2022-03-23T02:54:26.877709Z",
          "iopub.status.busy": "2022-03-23T02:54:26.876959Z",
          "iopub.status.idle": "2022-03-23T02:54:26.884225Z",
          "shell.execute_reply": "2022-03-23T02:54:26.883444Z",
          "shell.execute_reply.started": "2022-03-23T02:54:26.877663Z"
        },
        "id": "qm7SjjSkJrFz"
      },
      "outputs": [],
      "source": [
        "# Function to clean the text and remove all the unnecessary elements.\n",
        "def clean_data(text):\n",
        "    text = text.lower() # text to lowercase\n",
        "    text = re.sub(r'\\s\\{\\$\\S*', '',text) # Remove text within curly braces\n",
        "    text = re.sub(r'\\n', '', text) # Remove line breaks\n",
        "    text = re.sub(r'\\(\\w*\\)', '', text) #remove text within braces\n",
        "    text = re.sub(r'(\\W\\s)|(\\W$)|(\\W\\d*)', ' ',text) # Remove punctuation\n",
        "    text = re.sub(r'x+((/xx)*/\\d*\\s*)|x*', '',text) #Remove date\n",
        "    text = re.sub(r'\\d+\\s', '', text) #Remove other numerical values\n",
        "    text = re.sub(r' +', ' ',text) #Remove unnecessary white spaces\n",
        "    return text\n"
      ]
    },
    {
      "cell_type": "code",
      "execution_count": 14,
      "metadata": {
        "execution": {
          "iopub.execute_input": "2022-03-23T02:54:55.056274Z",
          "iopub.status.busy": "2022-03-23T02:54:55.055978Z",
          "iopub.status.idle": "2022-03-23T02:55:19.901791Z",
          "shell.execute_reply": "2022-03-23T02:55:19.900922Z",
          "shell.execute_reply.started": "2022-03-23T02:54:55.056240Z"
        },
        "id": "0uz1PjjDyKOD",
        "outputId": "0bdca27b-3ef1-498a-cdd3-5da175118f67",
        "colab": {
          "base_uri": "https://localhost:8080/",
          "height": 206
        }
      },
      "outputs": [
        {
          "output_type": "execute_result",
          "data": {
            "text/plain": [
              "                             complaints_what_happened  \\\n",
              "1   Good morning my name is XXXX XXXX and I apprec...   \n",
              "2   I upgraded my XXXX XXXX card in XX/XX/2018 and...   \n",
              "10  Chase Card was reported on XX/XX/2019. However...   \n",
              "11  On XX/XX/2018, while trying to book a XXXX  XX...   \n",
              "14  my grand son give me check for {$1600.00} i de...   \n",
              "\n",
              "                                                  tag  \\\n",
              "1                                     Debt collection   \n",
              "2                         Credit card or prepaid card   \n",
              "10  Credit reporting, credit repair services, or o...   \n",
              "11  Credit reporting, credit repair services, or o...   \n",
              "14                        Checking or savings account   \n",
              "\n",
              "                                           complaints  \n",
              "1   good morning my name is and i appreciate it if...  \n",
              "2   i upgraded my card in and was told by the agen...  \n",
              "10  chase card was reported on however fraudulent ...  \n",
              "11  on while trying to book a ticket i came across...  \n",
              "14  my grand son give me check for i deposit it in...  "
            ],
            "text/html": [
              "\n",
              "  <div id=\"df-51c41a5b-18ba-4647-b585-5ab34eb90ca3\">\n",
              "    <div class=\"colab-df-container\">\n",
              "      <div>\n",
              "<style scoped>\n",
              "    .dataframe tbody tr th:only-of-type {\n",
              "        vertical-align: middle;\n",
              "    }\n",
              "\n",
              "    .dataframe tbody tr th {\n",
              "        vertical-align: top;\n",
              "    }\n",
              "\n",
              "    .dataframe thead th {\n",
              "        text-align: right;\n",
              "    }\n",
              "</style>\n",
              "<table border=\"1\" class=\"dataframe\">\n",
              "  <thead>\n",
              "    <tr style=\"text-align: right;\">\n",
              "      <th></th>\n",
              "      <th>complaints_what_happened</th>\n",
              "      <th>tag</th>\n",
              "      <th>complaints</th>\n",
              "    </tr>\n",
              "  </thead>\n",
              "  <tbody>\n",
              "    <tr>\n",
              "      <th>1</th>\n",
              "      <td>Good morning my name is XXXX XXXX and I apprec...</td>\n",
              "      <td>Debt collection</td>\n",
              "      <td>good morning my name is and i appreciate it if...</td>\n",
              "    </tr>\n",
              "    <tr>\n",
              "      <th>2</th>\n",
              "      <td>I upgraded my XXXX XXXX card in XX/XX/2018 and...</td>\n",
              "      <td>Credit card or prepaid card</td>\n",
              "      <td>i upgraded my card in and was told by the agen...</td>\n",
              "    </tr>\n",
              "    <tr>\n",
              "      <th>10</th>\n",
              "      <td>Chase Card was reported on XX/XX/2019. However...</td>\n",
              "      <td>Credit reporting, credit repair services, or o...</td>\n",
              "      <td>chase card was reported on however fraudulent ...</td>\n",
              "    </tr>\n",
              "    <tr>\n",
              "      <th>11</th>\n",
              "      <td>On XX/XX/2018, while trying to book a XXXX  XX...</td>\n",
              "      <td>Credit reporting, credit repair services, or o...</td>\n",
              "      <td>on while trying to book a ticket i came across...</td>\n",
              "    </tr>\n",
              "    <tr>\n",
              "      <th>14</th>\n",
              "      <td>my grand son give me check for {$1600.00} i de...</td>\n",
              "      <td>Checking or savings account</td>\n",
              "      <td>my grand son give me check for i deposit it in...</td>\n",
              "    </tr>\n",
              "  </tbody>\n",
              "</table>\n",
              "</div>\n",
              "      <button class=\"colab-df-convert\" onclick=\"convertToInteractive('df-51c41a5b-18ba-4647-b585-5ab34eb90ca3')\"\n",
              "              title=\"Convert this dataframe to an interactive table.\"\n",
              "              style=\"display:none;\">\n",
              "        \n",
              "  <svg xmlns=\"http://www.w3.org/2000/svg\" height=\"24px\"viewBox=\"0 0 24 24\"\n",
              "       width=\"24px\">\n",
              "    <path d=\"M0 0h24v24H0V0z\" fill=\"none\"/>\n",
              "    <path d=\"M18.56 5.44l.94 2.06.94-2.06 2.06-.94-2.06-.94-.94-2.06-.94 2.06-2.06.94zm-11 1L8.5 8.5l.94-2.06 2.06-.94-2.06-.94L8.5 2.5l-.94 2.06-2.06.94zm10 10l.94 2.06.94-2.06 2.06-.94-2.06-.94-.94-2.06-.94 2.06-2.06.94z\"/><path d=\"M17.41 7.96l-1.37-1.37c-.4-.4-.92-.59-1.43-.59-.52 0-1.04.2-1.43.59L10.3 9.45l-7.72 7.72c-.78.78-.78 2.05 0 2.83L4 21.41c.39.39.9.59 1.41.59.51 0 1.02-.2 1.41-.59l7.78-7.78 2.81-2.81c.8-.78.8-2.07 0-2.86zM5.41 20L4 18.59l7.72-7.72 1.47 1.35L5.41 20z\"/>\n",
              "  </svg>\n",
              "      </button>\n",
              "      \n",
              "  <style>\n",
              "    .colab-df-container {\n",
              "      display:flex;\n",
              "      flex-wrap:wrap;\n",
              "      gap: 12px;\n",
              "    }\n",
              "\n",
              "    .colab-df-convert {\n",
              "      background-color: #E8F0FE;\n",
              "      border: none;\n",
              "      border-radius: 50%;\n",
              "      cursor: pointer;\n",
              "      display: none;\n",
              "      fill: #1967D2;\n",
              "      height: 32px;\n",
              "      padding: 0 0 0 0;\n",
              "      width: 32px;\n",
              "    }\n",
              "\n",
              "    .colab-df-convert:hover {\n",
              "      background-color: #E2EBFA;\n",
              "      box-shadow: 0px 1px 2px rgba(60, 64, 67, 0.3), 0px 1px 3px 1px rgba(60, 64, 67, 0.15);\n",
              "      fill: #174EA6;\n",
              "    }\n",
              "\n",
              "    [theme=dark] .colab-df-convert {\n",
              "      background-color: #3B4455;\n",
              "      fill: #D2E3FC;\n",
              "    }\n",
              "\n",
              "    [theme=dark] .colab-df-convert:hover {\n",
              "      background-color: #434B5C;\n",
              "      box-shadow: 0px 1px 3px 1px rgba(0, 0, 0, 0.15);\n",
              "      filter: drop-shadow(0px 1px 2px rgba(0, 0, 0, 0.3));\n",
              "      fill: #FFFFFF;\n",
              "    }\n",
              "  </style>\n",
              "\n",
              "      <script>\n",
              "        const buttonEl =\n",
              "          document.querySelector('#df-51c41a5b-18ba-4647-b585-5ab34eb90ca3 button.colab-df-convert');\n",
              "        buttonEl.style.display =\n",
              "          google.colab.kernel.accessAllowed ? 'block' : 'none';\n",
              "\n",
              "        async function convertToInteractive(key) {\n",
              "          const element = document.querySelector('#df-51c41a5b-18ba-4647-b585-5ab34eb90ca3');\n",
              "          const dataTable =\n",
              "            await google.colab.kernel.invokeFunction('convertToInteractive',\n",
              "                                                     [key], {});\n",
              "          if (!dataTable) return;\n",
              "\n",
              "          const docLinkHtml = 'Like what you see? Visit the ' +\n",
              "            '<a target=\"_blank\" href=https://colab.research.google.com/notebooks/data_table.ipynb>data table notebook</a>'\n",
              "            + ' to learn more about interactive tables.';\n",
              "          element.innerHTML = '';\n",
              "          dataTable['output_type'] = 'display_data';\n",
              "          await google.colab.output.renderOutput(dataTable, element);\n",
              "          const docLink = document.createElement('div');\n",
              "          docLink.innerHTML = docLinkHtml;\n",
              "          element.appendChild(docLink);\n",
              "        }\n",
              "      </script>\n",
              "    </div>\n",
              "  </div>\n",
              "  "
            ]
          },
          "metadata": {},
          "execution_count": 14
        }
      ],
      "source": [
        "# Apply data cleaning to the complaints_what_happened column\n",
        "\n",
        "df['complaints'] = df['complaints_what_happened'].apply(clean_data)\n",
        "df.head()"
      ]
    },
    {
      "cell_type": "code",
      "execution_count": 15,
      "metadata": {
        "execution": {
          "iopub.execute_input": "2022-03-23T02:55:19.904599Z",
          "iopub.status.busy": "2022-03-23T02:55:19.903733Z",
          "iopub.status.idle": "2022-03-23T02:55:19.910778Z",
          "shell.execute_reply": "2022-03-23T02:55:19.909972Z",
          "shell.execute_reply.started": "2022-03-23T02:55:19.904549Z"
        },
        "id": "zgOu8t8HJrFz"
      },
      "outputs": [],
      "source": [
        "# Function to Lemmatize the texts\n",
        "def lemmatization(text):\n",
        "    tokens = word_tokenize(text)\n",
        "    wordnet_lemmetizer = WordNetLemmatizer()\n",
        "    lemmatized = [wordnet_lemmetizer.lemmatize(token) for token in tokens]\n",
        "    lemmatized_str = \" \".join(lemmatized)\n",
        "    return lemmatized_str"
      ]
    },
    {
      "cell_type": "code",
      "execution_count": 22,
      "metadata": {
        "execution": {
          "iopub.execute_input": "2022-03-23T02:55:20.113397Z",
          "iopub.status.busy": "2022-03-23T02:55:20.113158Z",
          "iopub.status.idle": "2022-03-23T02:56:27.818951Z",
          "shell.execute_reply": "2022-03-23T02:56:27.817920Z",
          "shell.execute_reply.started": "2022-03-23T02:55:20.113345Z"
        },
        "id": "uXnN7aa_JrF0"
      },
      "outputs": [],
      "source": [
        "#Create a dataframe('df_clean') that will have only the complaints and the lemmatized complaints \n",
        "df_clean = pd.DataFrame({'complaints':df['complaints'], 'lemmatized':df['complaints'].apply(lemmatization)})"
      ]
    },
    {
      "cell_type": "code",
      "execution_count": 23,
      "metadata": {
        "execution": {
          "iopub.execute_input": "2022-03-23T02:56:27.822309Z",
          "iopub.status.busy": "2022-03-23T02:56:27.821994Z",
          "iopub.status.idle": "2022-03-23T02:56:27.832190Z",
          "shell.execute_reply": "2022-03-23T02:56:27.831321Z",
          "shell.execute_reply.started": "2022-03-23T02:56:27.822268Z"
        },
        "id": "nOiDVvEIJrF0",
        "outputId": "e7d8da39-f01e-4f9f-8c13-1f9e8a34ead4",
        "colab": {
          "base_uri": "https://localhost:8080/",
          "height": 206
        }
      },
      "outputs": [
        {
          "output_type": "execute_result",
          "data": {
            "text/plain": [
              "                                           complaints  \\\n",
              "1   good morning my name is and i appreciate it if...   \n",
              "2   i upgraded my card in and was told by the agen...   \n",
              "10  chase card was reported on however fraudulent ...   \n",
              "11  on while trying to book a ticket i came across...   \n",
              "14  my grand son give me check for i deposit it in...   \n",
              "\n",
              "                                           lemmatized  \n",
              "1   good morning my name is and i appreciate it if...  \n",
              "2   i upgraded my card in and wa told by the agent...  \n",
              "10  chase card wa reported on however fraudulent a...  \n",
              "11  on while trying to book a ticket i came across...  \n",
              "14  my grand son give me check for i deposit it in...  "
            ],
            "text/html": [
              "\n",
              "  <div id=\"df-af6095a2-f3bd-41ef-be33-5a739913b8b9\">\n",
              "    <div class=\"colab-df-container\">\n",
              "      <div>\n",
              "<style scoped>\n",
              "    .dataframe tbody tr th:only-of-type {\n",
              "        vertical-align: middle;\n",
              "    }\n",
              "\n",
              "    .dataframe tbody tr th {\n",
              "        vertical-align: top;\n",
              "    }\n",
              "\n",
              "    .dataframe thead th {\n",
              "        text-align: right;\n",
              "    }\n",
              "</style>\n",
              "<table border=\"1\" class=\"dataframe\">\n",
              "  <thead>\n",
              "    <tr style=\"text-align: right;\">\n",
              "      <th></th>\n",
              "      <th>complaints</th>\n",
              "      <th>lemmatized</th>\n",
              "    </tr>\n",
              "  </thead>\n",
              "  <tbody>\n",
              "    <tr>\n",
              "      <th>1</th>\n",
              "      <td>good morning my name is and i appreciate it if...</td>\n",
              "      <td>good morning my name is and i appreciate it if...</td>\n",
              "    </tr>\n",
              "    <tr>\n",
              "      <th>2</th>\n",
              "      <td>i upgraded my card in and was told by the agen...</td>\n",
              "      <td>i upgraded my card in and wa told by the agent...</td>\n",
              "    </tr>\n",
              "    <tr>\n",
              "      <th>10</th>\n",
              "      <td>chase card was reported on however fraudulent ...</td>\n",
              "      <td>chase card wa reported on however fraudulent a...</td>\n",
              "    </tr>\n",
              "    <tr>\n",
              "      <th>11</th>\n",
              "      <td>on while trying to book a ticket i came across...</td>\n",
              "      <td>on while trying to book a ticket i came across...</td>\n",
              "    </tr>\n",
              "    <tr>\n",
              "      <th>14</th>\n",
              "      <td>my grand son give me check for i deposit it in...</td>\n",
              "      <td>my grand son give me check for i deposit it in...</td>\n",
              "    </tr>\n",
              "  </tbody>\n",
              "</table>\n",
              "</div>\n",
              "      <button class=\"colab-df-convert\" onclick=\"convertToInteractive('df-af6095a2-f3bd-41ef-be33-5a739913b8b9')\"\n",
              "              title=\"Convert this dataframe to an interactive table.\"\n",
              "              style=\"display:none;\">\n",
              "        \n",
              "  <svg xmlns=\"http://www.w3.org/2000/svg\" height=\"24px\"viewBox=\"0 0 24 24\"\n",
              "       width=\"24px\">\n",
              "    <path d=\"M0 0h24v24H0V0z\" fill=\"none\"/>\n",
              "    <path d=\"M18.56 5.44l.94 2.06.94-2.06 2.06-.94-2.06-.94-.94-2.06-.94 2.06-2.06.94zm-11 1L8.5 8.5l.94-2.06 2.06-.94-2.06-.94L8.5 2.5l-.94 2.06-2.06.94zm10 10l.94 2.06.94-2.06 2.06-.94-2.06-.94-.94-2.06-.94 2.06-2.06.94z\"/><path d=\"M17.41 7.96l-1.37-1.37c-.4-.4-.92-.59-1.43-.59-.52 0-1.04.2-1.43.59L10.3 9.45l-7.72 7.72c-.78.78-.78 2.05 0 2.83L4 21.41c.39.39.9.59 1.41.59.51 0 1.02-.2 1.41-.59l7.78-7.78 2.81-2.81c.8-.78.8-2.07 0-2.86zM5.41 20L4 18.59l7.72-7.72 1.47 1.35L5.41 20z\"/>\n",
              "  </svg>\n",
              "      </button>\n",
              "      \n",
              "  <style>\n",
              "    .colab-df-container {\n",
              "      display:flex;\n",
              "      flex-wrap:wrap;\n",
              "      gap: 12px;\n",
              "    }\n",
              "\n",
              "    .colab-df-convert {\n",
              "      background-color: #E8F0FE;\n",
              "      border: none;\n",
              "      border-radius: 50%;\n",
              "      cursor: pointer;\n",
              "      display: none;\n",
              "      fill: #1967D2;\n",
              "      height: 32px;\n",
              "      padding: 0 0 0 0;\n",
              "      width: 32px;\n",
              "    }\n",
              "\n",
              "    .colab-df-convert:hover {\n",
              "      background-color: #E2EBFA;\n",
              "      box-shadow: 0px 1px 2px rgba(60, 64, 67, 0.3), 0px 1px 3px 1px rgba(60, 64, 67, 0.15);\n",
              "      fill: #174EA6;\n",
              "    }\n",
              "\n",
              "    [theme=dark] .colab-df-convert {\n",
              "      background-color: #3B4455;\n",
              "      fill: #D2E3FC;\n",
              "    }\n",
              "\n",
              "    [theme=dark] .colab-df-convert:hover {\n",
              "      background-color: #434B5C;\n",
              "      box-shadow: 0px 1px 3px 1px rgba(0, 0, 0, 0.15);\n",
              "      filter: drop-shadow(0px 1px 2px rgba(0, 0, 0, 0.3));\n",
              "      fill: #FFFFFF;\n",
              "    }\n",
              "  </style>\n",
              "\n",
              "      <script>\n",
              "        const buttonEl =\n",
              "          document.querySelector('#df-af6095a2-f3bd-41ef-be33-5a739913b8b9 button.colab-df-convert');\n",
              "        buttonEl.style.display =\n",
              "          google.colab.kernel.accessAllowed ? 'block' : 'none';\n",
              "\n",
              "        async function convertToInteractive(key) {\n",
              "          const element = document.querySelector('#df-af6095a2-f3bd-41ef-be33-5a739913b8b9');\n",
              "          const dataTable =\n",
              "            await google.colab.kernel.invokeFunction('convertToInteractive',\n",
              "                                                     [key], {});\n",
              "          if (!dataTable) return;\n",
              "\n",
              "          const docLinkHtml = 'Like what you see? Visit the ' +\n",
              "            '<a target=\"_blank\" href=https://colab.research.google.com/notebooks/data_table.ipynb>data table notebook</a>'\n",
              "            + ' to learn more about interactive tables.';\n",
              "          element.innerHTML = '';\n",
              "          dataTable['output_type'] = 'display_data';\n",
              "          await google.colab.output.renderOutput(dataTable, element);\n",
              "          const docLink = document.createElement('div');\n",
              "          docLink.innerHTML = docLinkHtml;\n",
              "          element.appendChild(docLink);\n",
              "        }\n",
              "      </script>\n",
              "    </div>\n",
              "  </div>\n",
              "  "
            ]
          },
          "metadata": {},
          "execution_count": 23
        }
      ],
      "source": [
        "df_clean.head()"
      ]
    },
    {
      "cell_type": "code",
      "execution_count": null,
      "metadata": {
        "execution": {
          "iopub.execute_input": "2022-03-23T02:56:27.833582Z",
          "iopub.status.busy": "2022-03-23T02:56:27.833339Z",
          "iopub.status.idle": "2022-03-23T03:04:39.903922Z",
          "shell.execute_reply": "2022-03-23T03:04:39.902756Z",
          "shell.execute_reply.started": "2022-03-23T02:56:27.833555Z"
        },
        "id": "Kk7fc4DuJrF1",
        "colab": {
          "base_uri": "https://localhost:8080/",
          "height": 49,
          "referenced_widgets": [
            "24b83bfd2d7b4c40b14d7d94df1d1a47",
            "6a1a43bf49714bc6ba607e1f2cf14ab6",
            "8aecfd17a9a5489c8f2cdb4f8ef7b5dd",
            "816f3a370cb04e978d2c8e38a90cba18",
            "ecbbeb2666754e0d86fd6b1135973cb6",
            "049f3b719860401e8863d193e8a5e042",
            "52682cfcb57e4c9293f2e25287ba26c7",
            "ef56d7e2abf94da6acd413f1cbf0ea3d",
            "bf7877cb1a4c4b2aa92bbc4cc8d95fd6",
            "84ee836eb8d04990b334c8392967e110",
            "4aafbed7f7ea4e1cb3c267b8792d423a"
          ]
        },
        "outputId": "4a8f0fbc-f4eb-4fbe-b9da-81e2b463530a"
      },
      "outputs": [
        {
          "output_type": "display_data",
          "data": {
            "text/plain": [
              "Pandas Apply:   0%|          | 0/21072 [00:00<?, ?it/s]"
            ],
            "application/vnd.jupyter.widget-view+json": {
              "version_major": 2,
              "version_minor": 0,
              "model_id": "24b83bfd2d7b4c40b14d7d94df1d1a47"
            }
          },
          "metadata": {}
        }
      ],
      "source": [
        "#Write your function to extract the POS tags \n",
        "\n",
        "def get_pos_tags(text):\n",
        "    nn_words = []\n",
        "    doc = nlp(text)\n",
        "    for tok in doc:\n",
        "        if(tok.tag_ == 'NN'):\n",
        "            nn_words.append(tok.lemma_)\n",
        "    nn_words_str = \" \".join(nn_words)\n",
        "    return nn_words_str\n",
        "\n",
        "#this column should contain lemmatized text with all the words removed which have tags other than NN[tag == \"NN\"].\n",
        "df_clean[\"complaint_POS_removed\"] =  df_clean.swifter.apply(lambda x: get_pos_tags(x['lemmatized']), axis=1)"
      ]
    },
    {
      "cell_type": "code",
      "execution_count": null,
      "metadata": {
        "execution": {
          "iopub.execute_input": "2022-03-23T03:04:39.906273Z",
          "iopub.status.busy": "2022-03-23T03:04:39.905980Z",
          "iopub.status.idle": "2022-03-23T03:04:39.923621Z",
          "shell.execute_reply": "2022-03-23T03:04:39.922970Z",
          "shell.execute_reply.started": "2022-03-23T03:04:39.906236Z"
        },
        "id": "AjxfchvFJrF2"
      },
      "outputs": [],
      "source": [
        "#The clean dataframe should now contain the raw complaint, lemmatized complaint and the complaint after removing POS tags.\n",
        "df_clean"
      ]
    },
    {
      "cell_type": "markdown",
      "metadata": {
        "id": "_7Un1AElJrF2"
      },
      "source": [
        "## Exploratory data analysis to get familiar with the data.\n",
        "\n",
        "Data visulaisation:\n",
        "\n",
        "*   Visualise the data according to the 'Complaint' character length\n",
        "*   Using a word cloud find the top 40 words by frequency among all the articles after processing the text\n",
        "*   Find the top unigrams,bigrams and trigrams by frequency among all the complaints after processing the text. ‘\n",
        "\n",
        "\n"
      ]
    },
    {
      "cell_type": "code",
      "execution_count": null,
      "metadata": {
        "execution": {
          "iopub.execute_input": "2022-03-23T03:04:39.925016Z",
          "iopub.status.busy": "2022-03-23T03:04:39.924803Z",
          "iopub.status.idle": "2022-03-23T03:04:40.532414Z",
          "shell.execute_reply": "2022-03-23T03:04:40.531543Z",
          "shell.execute_reply.started": "2022-03-23T03:04:39.924990Z"
        },
        "id": "q-zaqJF6JrF2"
      },
      "outputs": [],
      "source": [
        "# Write your code here to visualise the data according to the 'Complaint' character length\n",
        "plt.figure(figsize=(10,6))\n",
        "doc_lens = [len(d) for d in df_clean.complaint_POS_removed]\n",
        "plt.hist(doc_lens, bins = 100)\n",
        "plt.ylabel('Number of Complaint')\n",
        "plt.xlabel('Complaint character length')\n",
        "sns.despine();"
      ]
    },
    {
      "cell_type": "markdown",
      "metadata": {
        "id": "T9jD_6SeJrF3"
      },
      "source": [
        "#### Find the top 40 words by frequency among all the articles after processing the text."
      ]
    },
    {
      "cell_type": "code",
      "execution_count": null,
      "metadata": {
        "execution": {
          "iopub.execute_input": "2022-03-23T03:04:40.534973Z",
          "iopub.status.busy": "2022-03-23T03:04:40.533987Z",
          "iopub.status.idle": "2022-03-23T03:04:40.960454Z",
          "shell.execute_reply": "2022-03-23T03:04:40.959735Z",
          "shell.execute_reply.started": "2022-03-23T03:04:40.534927Z"
        },
        "id": "VzDvFyzrFE2U"
      },
      "outputs": [],
      "source": [
        "# Top 40 words frequency wise wordcloud\n",
        "wordcloud = WordCloud(max_words=40, random_state=1, stopwords=set(STOPWORDS))\n",
        "wordcloud.generate(str(df_clean['complaint_POS_removed']))\n",
        "plt.figure(figsize=(12,12))\n",
        "plt.imshow(wordcloud, interpolation=\"bilinear\")\n",
        "plt.axis(\"off\")\n",
        "plt.show()"
      ]
    },
    {
      "cell_type": "code",
      "execution_count": null,
      "metadata": {
        "execution": {
          "iopub.execute_input": "2022-03-23T03:04:40.964017Z",
          "iopub.status.busy": "2022-03-23T03:04:40.963291Z",
          "iopub.status.idle": "2022-03-23T03:04:41.008025Z",
          "shell.execute_reply": "2022-03-23T03:04:41.007400Z",
          "shell.execute_reply.started": "2022-03-23T03:04:40.963939Z"
        },
        "id": "OkSmc3UaJrF4"
      },
      "outputs": [],
      "source": [
        "#Removing -PRON- from the text corpus\n",
        "df_clean['Complaint_clean'] = df_clean['complaint_POS_removed'].str.replace('-PRON-', '')\n",
        "df_clean"
      ]
    },
    {
      "cell_type": "markdown",
      "metadata": {
        "id": "5DfCSbbmJrF4"
      },
      "source": [
        "#### Find the top unigrams,bigrams and trigrams by frequency among all the complaints after processing the text."
      ]
    },
    {
      "cell_type": "code",
      "execution_count": null,
      "metadata": {
        "execution": {
          "iopub.execute_input": "2022-03-23T03:04:41.010021Z",
          "iopub.status.busy": "2022-03-23T03:04:41.009250Z",
          "iopub.status.idle": "2022-03-23T03:04:41.016675Z",
          "shell.execute_reply": "2022-03-23T03:04:41.015893Z",
          "shell.execute_reply.started": "2022-03-23T03:04:41.009979Z"
        },
        "id": "_fxmQ8NhMCwK"
      },
      "outputs": [],
      "source": [
        "def top_grams(grams):\n",
        "    c_vec = CountVectorizer(stop_words=stopwords.words('english'), ngram_range=(grams,grams))\n",
        "    grams = c_vec.fit_transform(df_clean['complaints'])\n",
        "    count_values = grams.toarray().sum(axis=0)\n",
        "    vocab = c_vec.vocabulary_\n",
        "    df_ngram = pd.DataFrame(sorted([(count_values[i],k) for k,i in vocab.items()], reverse=True)\n",
        "            ).rename(columns={0: 'frequency', 1:'unigram'})\n",
        "    return df_ngram\n",
        "    \n",
        "    "
      ]
    },
    {
      "cell_type": "code",
      "execution_count": null,
      "metadata": {
        "execution": {
          "iopub.execute_input": "2022-03-23T03:04:41.018085Z",
          "iopub.status.busy": "2022-03-23T03:04:41.017752Z",
          "iopub.status.idle": "2022-03-23T03:04:49.254449Z",
          "shell.execute_reply": "2022-03-23T03:04:49.253607Z",
          "shell.execute_reply.started": "2022-03-23T03:04:41.018056Z"
        },
        "id": "sCu75zrQMCwL"
      },
      "outputs": [],
      "source": [
        "df_unigram = top_grams(1)\n",
        "df_unigram.head(10)"
      ]
    },
    {
      "cell_type": "code",
      "execution_count": null,
      "metadata": {
        "execution": {
          "iopub.execute_input": "2022-03-23T03:04:49.256515Z",
          "iopub.status.busy": "2022-03-23T03:04:49.256022Z",
          "iopub.status.idle": "2022-03-23T03:05:58.724242Z",
          "shell.execute_reply": "2022-03-23T03:05:58.723428Z",
          "shell.execute_reply.started": "2022-03-23T03:04:49.256470Z"
        },
        "id": "ysu9IvnDMCwL"
      },
      "outputs": [],
      "source": [
        "df_bigram = top_grams(2)\n",
        "df_bigram.head(10)"
      ]
    },
    {
      "cell_type": "code",
      "execution_count": null,
      "metadata": {
        "execution": {
          "iopub.execute_input": "2022-03-23T03:05:58.726087Z",
          "iopub.status.busy": "2022-03-23T03:05:58.725778Z",
          "iopub.status.idle": "2022-03-23T03:08:27.934430Z",
          "shell.execute_reply": "2022-03-23T03:08:27.933447Z",
          "shell.execute_reply.started": "2022-03-23T03:05:58.726045Z"
        },
        "id": "iK3NJncXMCwL"
      },
      "outputs": [],
      "source": [
        "df_trigram = top_grams(3)\n",
        "df_trigram.head(10)"
      ]
    },
    {
      "cell_type": "code",
      "execution_count": null,
      "metadata": {
        "execution": {
          "iopub.execute_input": "2022-03-23T03:08:27.936979Z",
          "iopub.status.busy": "2022-03-23T03:08:27.936404Z",
          "iopub.status.idle": "2022-03-23T03:08:27.953801Z",
          "shell.execute_reply": "2022-03-23T03:08:27.952900Z",
          "shell.execute_reply.started": "2022-03-23T03:08:27.936933Z"
        },
        "id": "98QAJzAcMCwL"
      },
      "outputs": [],
      "source": [
        "df_clean"
      ]
    },
    {
      "cell_type": "markdown",
      "metadata": {
        "id": "k-I0k0QtJrGA"
      },
      "source": [
        "## Feature Extraction\n",
        "Convert the raw texts to a matrix of TF-IDF features\n",
        "\n",
        "**max_df** is used for removing terms that appear too frequently, also known as \"corpus-specific stop words\"\n",
        "max_df = 0.95 means \"ignore terms that appear in more than 95% of the complaints\"\n",
        "\n",
        "**min_df** is used for removing terms that appear too infrequently\n",
        "min_df = 2 means \"ignore terms that appear in less than 2 complaints\""
      ]
    },
    {
      "cell_type": "code",
      "execution_count": null,
      "metadata": {
        "execution": {
          "iopub.execute_input": "2022-03-23T03:08:27.955902Z",
          "iopub.status.busy": "2022-03-23T03:08:27.955047Z",
          "iopub.status.idle": "2022-03-23T03:08:27.966275Z",
          "shell.execute_reply": "2022-03-23T03:08:27.965454Z",
          "shell.execute_reply.started": "2022-03-23T03:08:27.955851Z"
        },
        "id": "Y8fGwaCPJrGA"
      },
      "outputs": [],
      "source": [
        "#Write your code here to initialise the TfidfVectorizer \n",
        "tfidf = TfidfVectorizer(max_df=0.95, min_df=2, stop_words='english')"
      ]
    },
    {
      "cell_type": "markdown",
      "metadata": {
        "id": "yYzD85nTJrGA"
      },
      "source": [
        "#### Create a document term matrix using fit_transform\n",
        "\n",
        "The contents of a document term matrix are tuples of (complaint_id,token_id) tf-idf score:\n",
        "The tuples that are not there have a tf-idf score of 0"
      ]
    },
    {
      "cell_type": "code",
      "execution_count": null,
      "metadata": {
        "execution": {
          "iopub.execute_input": "2022-03-23T03:08:27.968157Z",
          "iopub.status.busy": "2022-03-23T03:08:27.967860Z",
          "iopub.status.idle": "2022-03-23T03:08:32.233180Z",
          "shell.execute_reply": "2022-03-23T03:08:32.232339Z",
          "shell.execute_reply.started": "2022-03-23T03:08:27.968125Z"
        },
        "id": "ffzdDpp_JrGB"
      },
      "outputs": [],
      "source": [
        "#Write your code here to create the Document Term Matrix by transforming the complaints column present in df_clean.\n",
        "dtm = tfidf.fit_transform(df_clean['complaints'])"
      ]
    },
    {
      "cell_type": "markdown",
      "metadata": {
        "id": "7Q9lwvNEJrGB"
      },
      "source": [
        "## Topic Modelling using NMF\n",
        "\n",
        "Non-Negative Matrix Factorization (NMF) is an unsupervised technique so there are no labeling of topics that the model will be trained on. The way it works is that, NMF decomposes (or factorizes) high-dimensional vectors into a lower-dimensional representation. These lower-dimensional vectors are non-negative which also means their coefficients are non-negative.\n",
        "\n",
        "In this task we will perform the following:\n",
        "\n",
        "* Find the best number of clusters \n",
        "* Apply the best number to create word clusters\n",
        "* Inspect & validate the correction of each cluster wrt the complaints \n",
        "* Correct the labels if needed \n",
        "* Map the clusters to topics/cluster names"
      ]
    },
    {
      "cell_type": "code",
      "execution_count": null,
      "metadata": {
        "execution": {
          "iopub.execute_input": "2022-03-23T03:08:32.234690Z",
          "iopub.status.busy": "2022-03-23T03:08:32.234432Z",
          "iopub.status.idle": "2022-03-23T03:08:32.264807Z",
          "shell.execute_reply": "2022-03-23T03:08:32.263998Z",
          "shell.execute_reply.started": "2022-03-23T03:08:32.234660Z"
        },
        "id": "amLT4omWJrGB"
      },
      "outputs": [],
      "source": [
        "from sklearn.decomposition import NMF"
      ]
    },
    {
      "cell_type": "markdown",
      "metadata": {
        "id": "0wYR1xUTJrGD"
      },
      "source": [
        "## Manual Topic Modeling\n",
        "We need to do take the trial & error approach to find the best num of topics for your NMF model.\n",
        "\n",
        "The only parameter that is required is the number of components i.e. the number of topics we want. This is the most crucial step in the whole topic modeling process and will greatly affect how good our final topics are."
      ]
    },
    {
      "cell_type": "code",
      "execution_count": null,
      "metadata": {
        "execution": {
          "iopub.execute_input": "2022-03-23T03:08:32.266809Z",
          "iopub.status.busy": "2022-03-23T03:08:32.265988Z",
          "iopub.status.idle": "2022-03-23T03:08:32.270144Z",
          "shell.execute_reply": "2022-03-23T03:08:32.269609Z",
          "shell.execute_reply.started": "2022-03-23T03:08:32.266765Z"
        },
        "id": "sgd2A6bhJrGD"
      },
      "outputs": [],
      "source": [
        "#Load your nmf_model with the n_components i.e 5\n",
        "num_topics = 5\n",
        "\n",
        "#keep the random_state =40\n",
        "nmf_model = NMF(random_state=40, n_components=num_topics)"
      ]
    },
    {
      "cell_type": "code",
      "execution_count": null,
      "metadata": {
        "execution": {
          "iopub.execute_input": "2022-03-23T03:08:32.271327Z",
          "iopub.status.busy": "2022-03-23T03:08:32.271035Z",
          "iopub.status.idle": "2022-03-23T03:08:35.462220Z",
          "shell.execute_reply": "2022-03-23T03:08:35.461045Z",
          "shell.execute_reply.started": "2022-03-23T03:08:32.271301Z"
        },
        "id": "VPMDYbt_JrGE"
      },
      "outputs": [],
      "source": [
        "nmf_model.fit(dtm)\n",
        "len(tfidf.get_feature_names())"
      ]
    },
    {
      "cell_type": "code",
      "execution_count": null,
      "metadata": {
        "execution": {
          "iopub.execute_input": "2022-03-23T03:08:35.464625Z",
          "iopub.status.busy": "2022-03-23T03:08:35.463926Z",
          "iopub.status.idle": "2022-03-23T03:08:35.541617Z",
          "shell.execute_reply": "2022-03-23T03:08:35.540775Z",
          "shell.execute_reply.started": "2022-03-23T03:08:35.464576Z"
        },
        "id": "16kRfat5JrGE"
      },
      "outputs": [],
      "source": [
        "#Print the Top15 words for each of the topics\n",
        "words = np.array(tfidf.get_feature_names())\n",
        "topic_words_df = pd.DataFrame(np.zeros((num_topics, 15)), index=[f'Topic {i + 1}' for i in range(num_topics)],\n",
        "                           columns=[f'Word {i + 1}' for i in range(15)]).astype(str)\n",
        "\n",
        "for i in range(num_topics):\n",
        "    ix = nmf_model.components_[i].argsort()[::-1][:15]\n",
        "    topic_words_df.iloc[i] = words[ix]\n",
        "\n",
        "topic_words_df"
      ]
    },
    {
      "cell_type": "code",
      "execution_count": null,
      "metadata": {
        "execution": {
          "iopub.execute_input": "2022-03-23T03:08:35.543920Z",
          "iopub.status.busy": "2022-03-23T03:08:35.543352Z",
          "iopub.status.idle": "2022-03-23T03:08:35.617509Z",
          "shell.execute_reply": "2022-03-23T03:08:35.616806Z",
          "shell.execute_reply.started": "2022-03-23T03:08:35.543875Z"
        },
        "id": "0OIT7LmFJrGF"
      },
      "outputs": [],
      "source": [
        "#Create the best topic for each complaint in terms of integer value 0,1,2,3 & 4\n",
        "topic_results = nmf_model.transform(dtm)\n",
        "topic_results.argmax(axis=1)"
      ]
    },
    {
      "cell_type": "code",
      "execution_count": null,
      "metadata": {
        "execution": {
          "iopub.execute_input": "2022-03-23T03:08:35.619239Z",
          "iopub.status.busy": "2022-03-23T03:08:35.618813Z",
          "iopub.status.idle": "2022-03-23T03:08:35.624051Z",
          "shell.execute_reply": "2022-03-23T03:08:35.623437Z",
          "shell.execute_reply.started": "2022-03-23T03:08:35.619209Z"
        },
        "id": "peyYv-ORJrGF"
      },
      "outputs": [],
      "source": [
        "#Assign the best topic to each of the cmplaints in Topic Column\n",
        "\n",
        "df_clean['Topic'] = topic_results.argmax(axis=1)"
      ]
    },
    {
      "cell_type": "code",
      "execution_count": null,
      "metadata": {
        "execution": {
          "iopub.execute_input": "2022-03-23T03:08:35.625685Z",
          "iopub.status.busy": "2022-03-23T03:08:35.625284Z",
          "iopub.status.idle": "2022-03-23T03:08:35.643422Z",
          "shell.execute_reply": "2022-03-23T03:08:35.642849Z",
          "shell.execute_reply.started": "2022-03-23T03:08:35.625637Z"
        },
        "id": "fLh_Gf3nJrGF"
      },
      "outputs": [],
      "source": [
        "df_clean.head()"
      ]
    },
    {
      "cell_type": "code",
      "execution_count": null,
      "metadata": {
        "execution": {
          "iopub.execute_input": "2022-03-23T03:08:35.645096Z",
          "iopub.status.busy": "2022-03-23T03:08:35.644690Z",
          "iopub.status.idle": "2022-03-23T03:08:35.671967Z",
          "shell.execute_reply": "2022-03-23T03:08:35.671135Z",
          "shell.execute_reply.started": "2022-03-23T03:08:35.645024Z"
        },
        "id": "aQKpufSPJrGG"
      },
      "outputs": [],
      "source": [
        "# Print the first 5 Complaint for each of the Topics\n",
        "First5_comp=df_clean.groupby('Topic').head(5)\n",
        "First5_comp.sort_values('Topic')"
      ]
    },
    {
      "cell_type": "markdown",
      "metadata": {
        "id": "piyLxzj6v07j"
      },
      "source": [
        "#### After evaluating the mapping, if the topics assigned are correct then assign these names to the relevant topic:\n",
        "* Bank Account services\n",
        "* Credit card or prepaid card\n",
        "* Theft/Dispute Reporting\n",
        "* Mortgage/Loan\n",
        "* Others"
      ]
    },
    {
      "cell_type": "code",
      "execution_count": null,
      "metadata": {
        "execution": {
          "iopub.execute_input": "2022-03-23T03:08:35.673872Z",
          "iopub.status.busy": "2022-03-23T03:08:35.673474Z",
          "iopub.status.idle": "2022-03-23T03:08:35.682153Z",
          "shell.execute_reply": "2022-03-23T03:08:35.680952Z",
          "shell.execute_reply.started": "2022-03-23T03:08:35.673824Z"
        },
        "id": "TWpwDG4RJrGG"
      },
      "outputs": [],
      "source": [
        "# Create the dictionary of Topic names and Topics\n",
        "Topic_names = {0:'Account Services', 1:'Others', 2:'Mortgage/Loan', 3:'Credit card or prepaid card', 4:'Theft/Dispute Reporting'}\n",
        "\n",
        "# Replace Topics with Topic Names\n",
        "df_clean['Topic'] = df_clean['Topic'].map(Topic_names)"
      ]
    },
    {
      "cell_type": "code",
      "execution_count": null,
      "metadata": {
        "execution": {
          "iopub.execute_input": "2022-03-23T03:08:35.684505Z",
          "iopub.status.busy": "2022-03-23T03:08:35.683735Z",
          "iopub.status.idle": "2022-03-23T03:08:35.702860Z",
          "shell.execute_reply": "2022-03-23T03:08:35.702067Z",
          "shell.execute_reply.started": "2022-03-23T03:08:35.684459Z"
        },
        "id": "-2ULY5K6JrGG"
      },
      "outputs": [],
      "source": [
        "df_clean"
      ]
    },
    {
      "cell_type": "markdown",
      "metadata": {
        "id": "7Mu0QBOcJrGH"
      },
      "source": [
        "## Supervised model to predict any new complaints to the relevant Topics.\n",
        "\n",
        "We have built a model to create the topics for each complaints.Now in the below section we will use them to classify any new complaints.\n",
        "\n",
        "*Since we will be using supervised learning technique we have to convert the topic names to numbers(numpy arrays only understand numbers)*"
      ]
    },
    {
      "cell_type": "code",
      "execution_count": null,
      "metadata": {
        "execution": {
          "iopub.execute_input": "2022-03-23T03:08:35.707445Z",
          "iopub.status.busy": "2022-03-23T03:08:35.707198Z",
          "iopub.status.idle": "2022-03-23T03:08:35.715831Z",
          "shell.execute_reply": "2022-03-23T03:08:35.715231Z",
          "shell.execute_reply.started": "2022-03-23T03:08:35.707414Z"
        },
        "id": "_U8J3J8wJrGH"
      },
      "outputs": [],
      "source": [
        "# Create the dictionary again of Topic names and Topics\n",
        "\n",
        "Topic_names = {'Account Services':0, 'Others':1, 'Mortgage/Loan':2, 'Credit card or prepaid card':3, 'Theft/Dispute Reporting':4}\n",
        "# Replace Topics with Topic Names\n",
        "df_clean['Topic'] = df_clean['Topic'].map(Topic_names)"
      ]
    },
    {
      "cell_type": "code",
      "execution_count": null,
      "metadata": {
        "execution": {
          "iopub.execute_input": "2022-03-23T03:08:35.717271Z",
          "iopub.status.busy": "2022-03-23T03:08:35.717055Z",
          "iopub.status.idle": "2022-03-23T03:08:35.740571Z",
          "shell.execute_reply": "2022-03-23T03:08:35.739397Z",
          "shell.execute_reply.started": "2022-03-23T03:08:35.717245Z"
        },
        "id": "BWIgJUkQJrGH"
      },
      "outputs": [],
      "source": [
        "df_clean"
      ]
    },
    {
      "cell_type": "code",
      "execution_count": null,
      "metadata": {
        "execution": {
          "iopub.execute_input": "2022-03-23T03:08:35.742613Z",
          "iopub.status.busy": "2022-03-23T03:08:35.741710Z",
          "iopub.status.idle": "2022-03-23T03:08:35.748933Z",
          "shell.execute_reply": "2022-03-23T03:08:35.748397Z",
          "shell.execute_reply.started": "2022-03-23T03:08:35.742572Z"
        },
        "id": "Xx-FrbkWJrGH"
      },
      "outputs": [],
      "source": [
        "# Keep the columns\"complaint_what_happened\" & \"Topic\" only in the new dataframe --> training_data\n",
        "training_data = df_clean.drop(['lemmatized', 'complaint_POS_removed', 'Complaint_clean'], axis=1)"
      ]
    },
    {
      "cell_type": "code",
      "execution_count": null,
      "metadata": {
        "execution": {
          "iopub.execute_input": "2022-03-23T03:08:35.750165Z",
          "iopub.status.busy": "2022-03-23T03:08:35.749921Z",
          "iopub.status.idle": "2022-03-23T03:08:35.768170Z",
          "shell.execute_reply": "2022-03-23T03:08:35.767339Z",
          "shell.execute_reply.started": "2022-03-23T03:08:35.750137Z"
        },
        "id": "lVg2pa12JrGI"
      },
      "outputs": [],
      "source": [
        "training_data"
      ]
    },
    {
      "cell_type": "markdown",
      "metadata": {
        "id": "280Vbqk-7a8M"
      },
      "source": [
        "#### Applying the supervised models on the training data created. In this process, we are going to do the following:\n",
        "* Create the vector counts using Count Vectoriser\n",
        "* Transform the word vecotr to tf-idf\n",
        "* Create the train & test data using the train_test_split on the tf-idf & topics\n"
      ]
    },
    {
      "cell_type": "code",
      "execution_count": null,
      "metadata": {
        "execution": {
          "iopub.execute_input": "2022-03-23T03:08:35.769730Z",
          "iopub.status.busy": "2022-03-23T03:08:35.769419Z",
          "iopub.status.idle": "2022-03-23T03:08:40.779654Z",
          "shell.execute_reply": "2022-03-23T03:08:40.778769Z",
          "shell.execute_reply.started": "2022-03-23T03:08:35.769696Z"
        },
        "id": "R4S0UBfyMCwR"
      },
      "outputs": [],
      "source": [
        "# Write your code to get the Vector count\n",
        "count_vect = CountVectorizer()\n",
        "X_train_counts = count_vect.fit_transform(training_data.complaints)\n",
        "\n",
        "# Write your code here to transform the word vector to tf-idf\n",
        "tfidf_transformer = TfidfTransformer()\n",
        "X_train_tfidf = tfidf_transformer.fit_transform(X_train_counts)"
      ]
    },
    {
      "cell_type": "markdown",
      "metadata": {
        "id": "uMU3vj6w-wqL"
      },
      "source": [
        "You have to try atleast 3 models on the train & test data from these options:\n",
        "* Logistic regression\n",
        "* Decision Tree\n",
        "* Random Forest\n",
        "* Naive Bayes (optional)\n",
        "\n",
        "**Using the required evaluation metrics judge the tried models and select the ones performing the best**"
      ]
    },
    {
      "cell_type": "code",
      "execution_count": null,
      "metadata": {
        "execution": {
          "iopub.execute_input": "2022-03-23T03:08:40.782198Z",
          "iopub.status.busy": "2022-03-23T03:08:40.781183Z",
          "iopub.status.idle": "2022-03-23T03:08:40.933622Z",
          "shell.execute_reply": "2022-03-23T03:08:40.932680Z",
          "shell.execute_reply.started": "2022-03-23T03:08:40.782146Z"
        },
        "id": "NW6ZJ-aHMCwR"
      },
      "outputs": [],
      "source": [
        "from sklearn.model_selection import train_test_split\n",
        "from sklearn.linear_model import LogisticRegression\n",
        "from sklearn.tree import DecisionTreeClassifier\n",
        "from sklearn.ensemble import RandomForestClassifier\n",
        "from sklearn.naive_bayes import GaussianNB\n",
        "\n",
        "from sklearn.metrics import classification_report"
      ]
    },
    {
      "cell_type": "code",
      "execution_count": null,
      "metadata": {
        "execution": {
          "iopub.execute_input": "2022-03-23T03:08:40.937671Z",
          "iopub.status.busy": "2022-03-23T03:08:40.937347Z",
          "iopub.status.idle": "2022-03-23T03:08:40.958845Z",
          "shell.execute_reply": "2022-03-23T03:08:40.957663Z",
          "shell.execute_reply.started": "2022-03-23T03:08:40.937634Z"
        },
        "id": "-Ufii1gYMCwR"
      },
      "outputs": [],
      "source": [
        "# Split data into train and test\n",
        "X_train, X_test, y_train, y_test = train_test_split(X_train_tfidf, training_data.Topic, test_size=0.2, random_state=42)"
      ]
    },
    {
      "cell_type": "markdown",
      "metadata": {
        "id": "ZRr1gbGvMCwS"
      },
      "source": [
        "**1. Logistic Regression**"
      ]
    },
    {
      "cell_type": "code",
      "execution_count": null,
      "metadata": {
        "execution": {
          "iopub.execute_input": "2022-03-23T03:08:40.961779Z",
          "iopub.status.busy": "2022-03-23T03:08:40.960915Z",
          "iopub.status.idle": "2022-03-23T03:08:53.952849Z",
          "shell.execute_reply": "2022-03-23T03:08:53.951800Z",
          "shell.execute_reply.started": "2022-03-23T03:08:40.961727Z"
        },
        "id": "udLHpPsZJrGI"
      },
      "outputs": [],
      "source": [
        "# Logistic Regression\n",
        "lr = LogisticRegression().fit(X_train, y_train)\n",
        "predicted = lr.predict(X_test)\n",
        "\n",
        "print(classification_report(y_true=y_test, y_pred=predicted))"
      ]
    },
    {
      "cell_type": "markdown",
      "metadata": {
        "id": "Kwv9K4NjMCwS"
      },
      "source": [
        "**2. Decision Tree**"
      ]
    },
    {
      "cell_type": "code",
      "execution_count": null,
      "metadata": {
        "execution": {
          "iopub.execute_input": "2022-03-23T03:08:53.962057Z",
          "iopub.status.busy": "2022-03-23T03:08:53.958800Z",
          "iopub.status.idle": "2022-03-23T03:09:09.664596Z",
          "shell.execute_reply": "2022-03-23T03:09:09.663653Z",
          "shell.execute_reply.started": "2022-03-23T03:08:53.961984Z"
        },
        "id": "N2OznsObJrGP"
      },
      "outputs": [],
      "source": [
        "# Decision tree classifier\n",
        "dt = DecisionTreeClassifier().fit(X_train, y_train)\n",
        "predicted = dt.predict(X_test)\n",
        "\n",
        "print(classification_report(y_pred=predicted, y_true=y_test))"
      ]
    },
    {
      "cell_type": "markdown",
      "metadata": {
        "id": "Ip_g_KQtMCwS"
      },
      "source": [
        "**3. Random Forest Classifier**"
      ]
    },
    {
      "cell_type": "code",
      "execution_count": null,
      "metadata": {
        "execution": {
          "iopub.execute_input": "2022-03-23T03:09:09.666770Z",
          "iopub.status.busy": "2022-03-23T03:09:09.666423Z",
          "iopub.status.idle": "2022-03-23T03:09:14.160210Z",
          "shell.execute_reply": "2022-03-23T03:09:14.159145Z",
          "shell.execute_reply.started": "2022-03-23T03:09:09.666727Z"
        },
        "id": "rpOtihUuMCwS"
      },
      "outputs": [],
      "source": [
        "rfc = RandomForestClassifier(max_depth=10)\n",
        "rfc.fit(X_train, y_train)\n",
        "predicted = rfc.predict(X_test)\n",
        "\n",
        "print(classification_report(y_pred=predicted, y_true=y_test))"
      ]
    },
    {
      "cell_type": "markdown",
      "metadata": {
        "id": "_hwhAghRMCwT"
      },
      "source": [
        "**4. Gaussian Naive Bayes**"
      ]
    },
    {
      "cell_type": "code",
      "execution_count": null,
      "metadata": {
        "execution": {
          "iopub.execute_input": "2022-03-23T03:09:14.162704Z",
          "iopub.status.busy": "2022-03-23T03:09:14.161932Z",
          "iopub.status.idle": "2022-03-23T03:09:29.108123Z",
          "shell.execute_reply": "2022-03-23T03:09:29.107166Z",
          "shell.execute_reply.started": "2022-03-23T03:09:14.162653Z"
        },
        "id": "jFKHiIPwMCwT"
      },
      "outputs": [],
      "source": [
        "nb = GaussianNB().fit(X_train.toarray(), y_train)\n",
        "predicted = nb.predict(X_test.toarray())\n",
        "\n",
        "print(classification_report(y_pred=predicted, y_true=y_test))"
      ]
    },
    {
      "cell_type": "markdown",
      "metadata": {
        "id": "TqOj3phMMCwT"
      },
      "source": [
        "**Clearly Logistic Regression is performing better**"
      ]
    },
    {
      "cell_type": "markdown",
      "metadata": {
        "id": "aqaJs3fBMCwT"
      },
      "source": [
        "### Infering the best model"
      ]
    },
    {
      "cell_type": "code",
      "execution_count": null,
      "metadata": {
        "execution": {
          "iopub.execute_input": "2022-03-23T03:09:29.109771Z",
          "iopub.status.busy": "2022-03-23T03:09:29.109460Z",
          "iopub.status.idle": "2022-03-23T03:09:29.120407Z",
          "shell.execute_reply": "2022-03-23T03:09:29.119539Z",
          "shell.execute_reply.started": "2022-03-23T03:09:29.109736Z"
        },
        "id": "wadTVgY_MCwT"
      },
      "outputs": [],
      "source": [
        "# Some sample complaints to infer model\n",
        "\n",
        "df_complaints = pd.DataFrame({'complaints': [\"I can not get from chase who services my mortgage, who owns it and who has original loan docs\", \n",
        "                                  \"The bill amount of my credit card was debited twice. Please look into the matter and resolve at the earliest.\",\n",
        "                                  \"I want to open a salary account at your downtown branch. Please provide me the procedure.\",\n",
        "                                  \"Yesterday, I received a fraudulent email regarding renewal of my services.\",\n",
        "                                  \"What is the procedure to know my CIBIL score?\",\n",
        "                                  \"I need to know the number of bank branches and their locations in the city of Dubai\"]})\n",
        "df_complaints"
      ]
    },
    {
      "cell_type": "code",
      "execution_count": null,
      "metadata": {
        "execution": {
          "iopub.execute_input": "2022-03-23T03:09:29.150733Z",
          "iopub.status.busy": "2022-03-23T03:09:29.150305Z",
          "iopub.status.idle": "2022-03-23T03:09:29.159783Z",
          "shell.execute_reply": "2022-03-23T03:09:29.158792Z",
          "shell.execute_reply.started": "2022-03-23T03:09:29.150699Z"
        },
        "id": "OQhd7YBHMCwU"
      },
      "outputs": [],
      "source": [
        "def predict_lr(text):\n",
        "    Topic_names = {0:'Account Services', 1:'Others', 2:'Mortgage/Loan', 3:'Credit card or prepaid card', 4:'Theft/Dispute Reporting'}\n",
        "    X_new_counts = count_vect.transform(text)\n",
        "    X_new_tfidf = tfidf_transformer.transform(X_new_counts)\n",
        "    predicted = lr.predict(X_new_tfidf)\n",
        "    return Topic_names[predicted[0]]"
      ]
    },
    {
      "cell_type": "code",
      "execution_count": null,
      "metadata": {
        "execution": {
          "iopub.execute_input": "2022-03-23T03:19:44.166691Z",
          "iopub.status.busy": "2022-03-23T03:19:44.166315Z",
          "iopub.status.idle": "2022-03-23T03:19:44.189879Z",
          "shell.execute_reply": "2022-03-23T03:19:44.189316Z",
          "shell.execute_reply.started": "2022-03-23T03:19:44.166656Z"
        },
        "id": "14HL3ig3MCwU"
      },
      "outputs": [],
      "source": [
        "df_complaints['tag'] = df_complaints['complaints'].apply(lambda x: predict_lr([x]))\n",
        "df_complaints"
      ]
    },
    {
      "cell_type": "markdown",
      "metadata": {
        "id": "4bYOwR9VMCwU"
      },
      "source": [
        "## Conclusion\n",
        "    \n",
        "* **As expected 5 topics were indetified namely:**\n",
        "    1. Account Services\n",
        "    2. Others\n",
        "    3. Mortgage/Loan\n",
        "    4. Credit card or prepaid card\n",
        "    5. Theft/Dispute Reporting\n",
        "    \n",
        "    \n",
        "* **Tried 4 models on the data with accuracies as follows:**\n",
        "\n",
        "    | Model       | Accuracy |\n",
        "    | ----------- | ----------- |\n",
        "    | Logistic Regression      | 0.95       |\n",
        "    | Decision Tree   | 0.77        |\n",
        "    | Random Forest      | 0.74       |\n",
        "    | Naive Bayes   | 0.36        |\n",
        "    \n",
        " <br /> <br /> <br /> <br /><br /> <br /><br />\n",
        "* **Logistic Regression has highest accuracy of `0.95`, Hence is a good fit for this particular case study.**"
      ]
    }
  ],
  "metadata": {
    "kernelspec": {
      "display_name": "Python 3",
      "language": "python",
      "name": "python3"
    },
    "language_info": {
      "codemirror_mode": {
        "name": "ipython",
        "version": 3
      },
      "file_extension": ".py",
      "mimetype": "text/x-python",
      "name": "python",
      "nbconvert_exporter": "python",
      "pygments_lexer": "ipython3",
      "version": "3.8.8"
    },
    "colab": {
      "name": "AutomaticTicketClassification.ipynb",
      "provenance": [],
      "include_colab_link": true
    },
    "widgets": {
      "application/vnd.jupyter.widget-state+json": {
        "24b83bfd2d7b4c40b14d7d94df1d1a47": {
          "model_module": "@jupyter-widgets/controls",
          "model_name": "HBoxModel",
          "model_module_version": "1.5.0",
          "state": {
            "_dom_classes": [],
            "_model_module": "@jupyter-widgets/controls",
            "_model_module_version": "1.5.0",
            "_model_name": "HBoxModel",
            "_view_count": null,
            "_view_module": "@jupyter-widgets/controls",
            "_view_module_version": "1.5.0",
            "_view_name": "HBoxView",
            "box_style": "",
            "children": [
              "IPY_MODEL_6a1a43bf49714bc6ba607e1f2cf14ab6",
              "IPY_MODEL_8aecfd17a9a5489c8f2cdb4f8ef7b5dd",
              "IPY_MODEL_816f3a370cb04e978d2c8e38a90cba18"
            ],
            "layout": "IPY_MODEL_ecbbeb2666754e0d86fd6b1135973cb6"
          }
        },
        "6a1a43bf49714bc6ba607e1f2cf14ab6": {
          "model_module": "@jupyter-widgets/controls",
          "model_name": "HTMLModel",
          "model_module_version": "1.5.0",
          "state": {
            "_dom_classes": [],
            "_model_module": "@jupyter-widgets/controls",
            "_model_module_version": "1.5.0",
            "_model_name": "HTMLModel",
            "_view_count": null,
            "_view_module": "@jupyter-widgets/controls",
            "_view_module_version": "1.5.0",
            "_view_name": "HTMLView",
            "description": "",
            "description_tooltip": null,
            "layout": "IPY_MODEL_049f3b719860401e8863d193e8a5e042",
            "placeholder": "​",
            "style": "IPY_MODEL_52682cfcb57e4c9293f2e25287ba26c7",
            "value": "Pandas Apply:   4%"
          }
        },
        "8aecfd17a9a5489c8f2cdb4f8ef7b5dd": {
          "model_module": "@jupyter-widgets/controls",
          "model_name": "FloatProgressModel",
          "model_module_version": "1.5.0",
          "state": {
            "_dom_classes": [],
            "_model_module": "@jupyter-widgets/controls",
            "_model_module_version": "1.5.0",
            "_model_name": "FloatProgressModel",
            "_view_count": null,
            "_view_module": "@jupyter-widgets/controls",
            "_view_module_version": "1.5.0",
            "_view_name": "ProgressView",
            "bar_style": "",
            "description": "",
            "description_tooltip": null,
            "layout": "IPY_MODEL_ef56d7e2abf94da6acd413f1cbf0ea3d",
            "max": 21072,
            "min": 0,
            "orientation": "horizontal",
            "style": "IPY_MODEL_bf7877cb1a4c4b2aa92bbc4cc8d95fd6",
            "value": 899
          }
        },
        "816f3a370cb04e978d2c8e38a90cba18": {
          "model_module": "@jupyter-widgets/controls",
          "model_name": "HTMLModel",
          "model_module_version": "1.5.0",
          "state": {
            "_dom_classes": [],
            "_model_module": "@jupyter-widgets/controls",
            "_model_module_version": "1.5.0",
            "_model_name": "HTMLModel",
            "_view_count": null,
            "_view_module": "@jupyter-widgets/controls",
            "_view_module_version": "1.5.0",
            "_view_name": "HTMLView",
            "description": "",
            "description_tooltip": null,
            "layout": "IPY_MODEL_84ee836eb8d04990b334c8392967e110",
            "placeholder": "​",
            "style": "IPY_MODEL_4aafbed7f7ea4e1cb3c267b8792d423a",
            "value": " 899/21072 [00:14&lt;05:37, 59.77it/s]"
          }
        },
        "ecbbeb2666754e0d86fd6b1135973cb6": {
          "model_module": "@jupyter-widgets/base",
          "model_name": "LayoutModel",
          "model_module_version": "1.2.0",
          "state": {
            "_model_module": "@jupyter-widgets/base",
            "_model_module_version": "1.2.0",
            "_model_name": "LayoutModel",
            "_view_count": null,
            "_view_module": "@jupyter-widgets/base",
            "_view_module_version": "1.2.0",
            "_view_name": "LayoutView",
            "align_content": null,
            "align_items": null,
            "align_self": null,
            "border": null,
            "bottom": null,
            "display": null,
            "flex": null,
            "flex_flow": null,
            "grid_area": null,
            "grid_auto_columns": null,
            "grid_auto_flow": null,
            "grid_auto_rows": null,
            "grid_column": null,
            "grid_gap": null,
            "grid_row": null,
            "grid_template_areas": null,
            "grid_template_columns": null,
            "grid_template_rows": null,
            "height": null,
            "justify_content": null,
            "justify_items": null,
            "left": null,
            "margin": null,
            "max_height": null,
            "max_width": null,
            "min_height": null,
            "min_width": null,
            "object_fit": null,
            "object_position": null,
            "order": null,
            "overflow": null,
            "overflow_x": null,
            "overflow_y": null,
            "padding": null,
            "right": null,
            "top": null,
            "visibility": null,
            "width": null
          }
        },
        "049f3b719860401e8863d193e8a5e042": {
          "model_module": "@jupyter-widgets/base",
          "model_name": "LayoutModel",
          "model_module_version": "1.2.0",
          "state": {
            "_model_module": "@jupyter-widgets/base",
            "_model_module_version": "1.2.0",
            "_model_name": "LayoutModel",
            "_view_count": null,
            "_view_module": "@jupyter-widgets/base",
            "_view_module_version": "1.2.0",
            "_view_name": "LayoutView",
            "align_content": null,
            "align_items": null,
            "align_self": null,
            "border": null,
            "bottom": null,
            "display": null,
            "flex": null,
            "flex_flow": null,
            "grid_area": null,
            "grid_auto_columns": null,
            "grid_auto_flow": null,
            "grid_auto_rows": null,
            "grid_column": null,
            "grid_gap": null,
            "grid_row": null,
            "grid_template_areas": null,
            "grid_template_columns": null,
            "grid_template_rows": null,
            "height": null,
            "justify_content": null,
            "justify_items": null,
            "left": null,
            "margin": null,
            "max_height": null,
            "max_width": null,
            "min_height": null,
            "min_width": null,
            "object_fit": null,
            "object_position": null,
            "order": null,
            "overflow": null,
            "overflow_x": null,
            "overflow_y": null,
            "padding": null,
            "right": null,
            "top": null,
            "visibility": null,
            "width": null
          }
        },
        "52682cfcb57e4c9293f2e25287ba26c7": {
          "model_module": "@jupyter-widgets/controls",
          "model_name": "DescriptionStyleModel",
          "model_module_version": "1.5.0",
          "state": {
            "_model_module": "@jupyter-widgets/controls",
            "_model_module_version": "1.5.0",
            "_model_name": "DescriptionStyleModel",
            "_view_count": null,
            "_view_module": "@jupyter-widgets/base",
            "_view_module_version": "1.2.0",
            "_view_name": "StyleView",
            "description_width": ""
          }
        },
        "ef56d7e2abf94da6acd413f1cbf0ea3d": {
          "model_module": "@jupyter-widgets/base",
          "model_name": "LayoutModel",
          "model_module_version": "1.2.0",
          "state": {
            "_model_module": "@jupyter-widgets/base",
            "_model_module_version": "1.2.0",
            "_model_name": "LayoutModel",
            "_view_count": null,
            "_view_module": "@jupyter-widgets/base",
            "_view_module_version": "1.2.0",
            "_view_name": "LayoutView",
            "align_content": null,
            "align_items": null,
            "align_self": null,
            "border": null,
            "bottom": null,
            "display": null,
            "flex": null,
            "flex_flow": null,
            "grid_area": null,
            "grid_auto_columns": null,
            "grid_auto_flow": null,
            "grid_auto_rows": null,
            "grid_column": null,
            "grid_gap": null,
            "grid_row": null,
            "grid_template_areas": null,
            "grid_template_columns": null,
            "grid_template_rows": null,
            "height": null,
            "justify_content": null,
            "justify_items": null,
            "left": null,
            "margin": null,
            "max_height": null,
            "max_width": null,
            "min_height": null,
            "min_width": null,
            "object_fit": null,
            "object_position": null,
            "order": null,
            "overflow": null,
            "overflow_x": null,
            "overflow_y": null,
            "padding": null,
            "right": null,
            "top": null,
            "visibility": null,
            "width": null
          }
        },
        "bf7877cb1a4c4b2aa92bbc4cc8d95fd6": {
          "model_module": "@jupyter-widgets/controls",
          "model_name": "ProgressStyleModel",
          "model_module_version": "1.5.0",
          "state": {
            "_model_module": "@jupyter-widgets/controls",
            "_model_module_version": "1.5.0",
            "_model_name": "ProgressStyleModel",
            "_view_count": null,
            "_view_module": "@jupyter-widgets/base",
            "_view_module_version": "1.2.0",
            "_view_name": "StyleView",
            "bar_color": null,
            "description_width": ""
          }
        },
        "84ee836eb8d04990b334c8392967e110": {
          "model_module": "@jupyter-widgets/base",
          "model_name": "LayoutModel",
          "model_module_version": "1.2.0",
          "state": {
            "_model_module": "@jupyter-widgets/base",
            "_model_module_version": "1.2.0",
            "_model_name": "LayoutModel",
            "_view_count": null,
            "_view_module": "@jupyter-widgets/base",
            "_view_module_version": "1.2.0",
            "_view_name": "LayoutView",
            "align_content": null,
            "align_items": null,
            "align_self": null,
            "border": null,
            "bottom": null,
            "display": null,
            "flex": null,
            "flex_flow": null,
            "grid_area": null,
            "grid_auto_columns": null,
            "grid_auto_flow": null,
            "grid_auto_rows": null,
            "grid_column": null,
            "grid_gap": null,
            "grid_row": null,
            "grid_template_areas": null,
            "grid_template_columns": null,
            "grid_template_rows": null,
            "height": null,
            "justify_content": null,
            "justify_items": null,
            "left": null,
            "margin": null,
            "max_height": null,
            "max_width": null,
            "min_height": null,
            "min_width": null,
            "object_fit": null,
            "object_position": null,
            "order": null,
            "overflow": null,
            "overflow_x": null,
            "overflow_y": null,
            "padding": null,
            "right": null,
            "top": null,
            "visibility": null,
            "width": null
          }
        },
        "4aafbed7f7ea4e1cb3c267b8792d423a": {
          "model_module": "@jupyter-widgets/controls",
          "model_name": "DescriptionStyleModel",
          "model_module_version": "1.5.0",
          "state": {
            "_model_module": "@jupyter-widgets/controls",
            "_model_module_version": "1.5.0",
            "_model_name": "DescriptionStyleModel",
            "_view_count": null,
            "_view_module": "@jupyter-widgets/base",
            "_view_module_version": "1.2.0",
            "_view_name": "StyleView",
            "description_width": ""
          }
        }
      }
    }
  },
  "nbformat": 4,
  "nbformat_minor": 0
}